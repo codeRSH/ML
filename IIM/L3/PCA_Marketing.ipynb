{
 "cells": [
  {
   "cell_type": "code",
   "execution_count": 1,
   "metadata": {},
   "outputs": [
    {
     "name": "stderr",
     "output_type": "stream",
     "text": [
      "In C:\\Users\\Deepak\\Anaconda3\\lib\\site-packages\\matplotlib\\mpl-data\\stylelib\\_classic_test.mplstyle: \n",
      "The text.latex.unicode rcparam was deprecated in Matplotlib 3.0 and will be removed in 3.2.\n",
      "In C:\\Users\\Deepak\\Anaconda3\\lib\\site-packages\\matplotlib\\mpl-data\\stylelib\\_classic_test.mplstyle: \n",
      "The savefig.frameon rcparam was deprecated in Matplotlib 3.1 and will be removed in 3.3.\n",
      "In C:\\Users\\Deepak\\Anaconda3\\lib\\site-packages\\matplotlib\\mpl-data\\stylelib\\_classic_test.mplstyle: \n",
      "The pgf.debug rcparam was deprecated in Matplotlib 3.0 and will be removed in 3.2.\n",
      "In C:\\Users\\Deepak\\Anaconda3\\lib\\site-packages\\matplotlib\\mpl-data\\stylelib\\_classic_test.mplstyle: \n",
      "The verbose.level rcparam was deprecated in Matplotlib 3.1 and will be removed in 3.3.\n",
      "In C:\\Users\\Deepak\\Anaconda3\\lib\\site-packages\\matplotlib\\mpl-data\\stylelib\\_classic_test.mplstyle: \n",
      "The verbose.fileo rcparam was deprecated in Matplotlib 3.1 and will be removed in 3.3.\n"
     ]
    }
   ],
   "source": [
    "import numpy as np\n",
    "from sklearn.decomposition import PCA\n",
    "import pandas as pd\n",
    "import matplotlib.pyplot as plt\n",
    "from sklearn.preprocessing import scale\n",
    "%matplotlib inline"
   ]
  },
  {
   "cell_type": "code",
   "execution_count": 2,
   "metadata": {},
   "outputs": [],
   "source": [
    "#Load data set\n",
    "data = pd.read_csv('C:\\\\RecogX_Backup\\\\Deepak\\\\IIM\\\\Eruditas\\\\PCA_data.csv')"
   ]
  },
  {
   "cell_type": "code",
   "execution_count": 3,
   "metadata": {},
   "outputs": [
    {
     "data": {
      "text/plain": [
       "44"
      ]
     },
     "execution_count": 3,
     "metadata": {},
     "output_type": "execute_result"
    }
   ],
   "source": [
    "len(data.columns)"
   ]
  },
  {
   "cell_type": "code",
   "execution_count": 4,
   "metadata": {},
   "outputs": [],
   "source": [
    "#convert it to numpy arrays\n",
    "X=data.values"
   ]
  },
  {
   "cell_type": "code",
   "execution_count": 5,
   "metadata": {},
   "outputs": [],
   "source": [
    "#Scaling the values\n",
    "X = scale(X)"
   ]
  },
  {
   "cell_type": "code",
   "execution_count": 6,
   "metadata": {},
   "outputs": [],
   "source": [
    "pca = PCA(n_components=44)"
   ]
  },
  {
   "cell_type": "code",
   "execution_count": 7,
   "metadata": {},
   "outputs": [
    {
     "data": {
      "text/plain": [
       "PCA(copy=True, iterated_power='auto', n_components=44, random_state=None,\n",
       "  svd_solver='auto', tol=0.0, whiten=False)"
      ]
     },
     "execution_count": 7,
     "metadata": {},
     "output_type": "execute_result"
    }
   ],
   "source": [
    "pca.fit(X)"
   ]
  },
  {
   "cell_type": "code",
   "execution_count": 8,
   "metadata": {},
   "outputs": [],
   "source": [
    "#The amount of variance that each PC explains\n",
    "var= pca.explained_variance_ratio_"
   ]
  },
  {
   "cell_type": "code",
   "execution_count": 9,
   "metadata": {},
   "outputs": [
    {
     "name": "stdout",
     "output_type": "stream",
     "text": [
      "[1.03718526e-01 7.31295799e-02 6.23801365e-02 5.77520682e-02\n",
      " 4.99579992e-02 4.58027356e-02 4.39108101e-02 2.85643343e-02\n",
      " 2.73588783e-02 2.65477435e-02 2.55987615e-02 2.55679661e-02\n",
      " 2.54951611e-02 2.50883112e-02 2.49393241e-02 2.49093801e-02\n",
      " 2.46831304e-02 2.44601578e-02 2.39036693e-02 2.37111789e-02\n",
      " 2.34438454e-02 2.34160414e-02 2.33067911e-02 2.29332971e-02\n",
      " 2.26556994e-02 2.25728481e-02 2.11283947e-02 2.06368348e-02\n",
      " 2.01638654e-02 1.65601658e-02 1.57023650e-02 3.57124068e-31\n",
      " 2.45598855e-32 2.36552722e-32 2.28734325e-32 9.33444413e-33\n",
      " 8.07391046e-33 4.28695309e-33 2.28351215e-33 1.95361131e-33\n",
      " 1.78932761e-33 1.52357734e-33 9.75218959e-34 9.16699623e-34]\n"
     ]
    }
   ],
   "source": [
    "print(var)"
   ]
  },
  {
   "cell_type": "code",
   "execution_count": 10,
   "metadata": {},
   "outputs": [],
   "source": [
    "#Cumulative Variance explains\n",
    "var1=np.cumsum(np.round(pca.explained_variance_ratio_, decimals=4)*100)"
   ]
  },
  {
   "cell_type": "code",
   "execution_count": 11,
   "metadata": {},
   "outputs": [
    {
     "name": "stdout",
     "output_type": "stream",
     "text": [
      "[ 10.37  17.68  23.92  29.7   34.7   39.28  43.67  46.53  49.27  51.92\n",
      "  54.48  57.04  59.59  62.1   64.59  67.08  69.55  72.    74.39  76.76\n",
      "  79.1   81.44  83.77  86.06  88.33  90.59  92.7   94.76  96.78  98.44\n",
      " 100.01 100.01 100.01 100.01 100.01 100.01 100.01 100.01 100.01 100.01\n",
      " 100.01 100.01 100.01 100.01]\n"
     ]
    }
   ],
   "source": [
    "print(var1)"
   ]
  },
  {
   "cell_type": "code",
   "execution_count": 12,
   "metadata": {},
   "outputs": [
    {
     "data": {
      "text/plain": [
       "[<matplotlib.lines.Line2D at 0x7f223487b8>]"
      ]
     },
     "execution_count": 12,
     "metadata": {},
     "output_type": "execute_result"
    },
    {
     "data": {
      "image/png": "[encoded data removed]",
      "text/plain": [
       "<Figure size 432x288 with 1 Axes>"
      ]
     },
     "metadata": {
      "needs_background": "light"
     },
     "output_type": "display_data"
    }
   ],
   "source": [
    "plt.plot(var1)"
   ]
  },
  {
   "cell_type": "code",
   "execution_count": 13,
   "metadata": {},
   "outputs": [
    {
     "data": {
      "text/plain": [
       "PCA(copy=True, iterated_power='auto', n_components=30, random_state=None,\n",
       "  svd_solver='auto', tol=0.0, whiten=False)"
      ]
     },
     "execution_count": 13,
     "metadata": {},
     "output_type": "execute_result"
    }
   ],
   "source": [
    "#Looking at above plot I'm taking 30 variables\n",
    "pca = PCA(n_components=30)\n",
    "pca.fit(X)"
   ]
  },
  {
   "cell_type": "code",
   "execution_count": 14,
   "metadata": {},
   "outputs": [],
   "source": [
    "X1=pca.fit_transform(X)"
   ]
  },
  {
   "cell_type": "code",
   "execution_count": 18,
   "metadata": {},
   "outputs": [
    {
     "name": "stdout",
     "output_type": "stream",
     "text": [
      "[[ 0.09811566  2.0627965   0.91537596 ... -0.99673342 -1.03870684\n",
      "   0.62053204]\n",
      " [ 3.53827983 -0.92012167  0.51750974 ...  0.02448287 -1.16418998\n",
      "  -1.81970335]\n",
      " [ 0.08866658  2.06025624  0.91927513 ...  0.60158702  0.56203193\n",
      "   1.58654677]\n",
      " ...\n",
      " [-2.35535355 -1.96211853 -0.58566832 ... -0.94853458  0.64829568\n",
      "  -1.11361637]\n",
      " [-2.3599767  -1.96466329 -0.6667813  ...  0.76587349  0.37260273\n",
      "  -0.3081998 ]\n",
      " [-2.32810678 -1.94808225 -0.86317058 ... -0.31095726  0.58206601\n",
      "  -0.33504916]]\n"
     ]
    }
   ],
   "source": [
    "print(X1)"
   ]
  }
 ],
 "metadata": {
  "kernelspec": {
   "display_name": "Python 3",
   "language": "python",
   "name": "python3"
  },
  "language_info": {
   "codemirror_mode": {
    "name": "ipython",
    "version": 3
   },
   "file_extension": ".py",
   "mimetype": "text/x-python",
   "name": "python",
   "nbconvert_exporter": "python",
   "pygments_lexer": "ipython3",
   "version": "3.7.0"
  }
 },
 "nbformat": 4,
 "nbformat_minor": 2
}
