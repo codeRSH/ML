{
 "cells": [
  {
   "cell_type": "code",
   "execution_count": 2,
   "metadata": {},
   "outputs": [],
   "source": [
    "# !pip install mlxtend  \n",
    "\n",
    "#Importing libraries\n",
    "\n",
    "import pandas as pd\n",
    "import numpy as np\n",
    "from apyori import apriori"
   ]
  },
  {
   "cell_type": "code",
   "execution_count": 3,
   "metadata": {},
   "outputs": [
    {
     "output_type": "execute_result",
     "data": {
      "text/plain": "  InvoiceNo StockCode                          Description  Quantity  \\\n0    536365    85123A   WHITE HANGING HEART T-LIGHT HOLDER         6   \n1    536365     71053                  WHITE METAL LANTERN         6   \n2    536365    84406B       CREAM CUPID HEARTS COAT HANGER         8   \n3    536365    84029G  KNITTED UNION FLAG HOT WATER BOTTLE         6   \n4    536365    84029E       RED WOOLLY HOTTIE WHITE HEART.         6   \n\n      InvoiceDate  UnitPrice  CustomerID         Country  \n0  12/1/2010 8:26       2.55     17850.0  United Kingdom  \n1  12/1/2010 8:26       3.39     17850.0  United Kingdom  \n2  12/1/2010 8:26       2.75     17850.0  United Kingdom  \n3  12/1/2010 8:26       3.39     17850.0  United Kingdom  \n4  12/1/2010 8:26       3.39     17850.0  United Kingdom  ",
      "text/html": "<div>\n<style scoped>\n    .dataframe tbody tr th:only-of-type {\n        vertical-align: middle;\n    }\n\n    .dataframe tbody tr th {\n        vertical-align: top;\n    }\n\n    .dataframe thead th {\n        text-align: right;\n    }\n</style>\n<table border=\"1\" class=\"dataframe\">\n  <thead>\n    <tr style=\"text-align: right;\">\n      <th></th>\n      <th>InvoiceNo</th>\n      <th>StockCode</th>\n      <th>Description</th>\n      <th>Quantity</th>\n      <th>InvoiceDate</th>\n      <th>UnitPrice</th>\n      <th>CustomerID</th>\n      <th>Country</th>\n    </tr>\n  </thead>\n  <tbody>\n    <tr>\n      <th>0</th>\n      <td>536365</td>\n      <td>85123A</td>\n      <td>WHITE HANGING HEART T-LIGHT HOLDER</td>\n      <td>6</td>\n      <td>12/1/2010 8:26</td>\n      <td>2.55</td>\n      <td>17850.0</td>\n      <td>United Kingdom</td>\n    </tr>\n    <tr>\n      <th>1</th>\n      <td>536365</td>\n      <td>71053</td>\n      <td>WHITE METAL LANTERN</td>\n      <td>6</td>\n      <td>12/1/2010 8:26</td>\n      <td>3.39</td>\n      <td>17850.0</td>\n      <td>United Kingdom</td>\n    </tr>\n    <tr>\n      <th>2</th>\n      <td>536365</td>\n      <td>84406B</td>\n      <td>CREAM CUPID HEARTS COAT HANGER</td>\n      <td>8</td>\n      <td>12/1/2010 8:26</td>\n      <td>2.75</td>\n      <td>17850.0</td>\n      <td>United Kingdom</td>\n    </tr>\n    <tr>\n      <th>3</th>\n      <td>536365</td>\n      <td>84029G</td>\n      <td>KNITTED UNION FLAG HOT WATER BOTTLE</td>\n      <td>6</td>\n      <td>12/1/2010 8:26</td>\n      <td>3.39</td>\n      <td>17850.0</td>\n      <td>United Kingdom</td>\n    </tr>\n    <tr>\n      <th>4</th>\n      <td>536365</td>\n      <td>84029E</td>\n      <td>RED WOOLLY HOTTIE WHITE HEART.</td>\n      <td>6</td>\n      <td>12/1/2010 8:26</td>\n      <td>3.39</td>\n      <td>17850.0</td>\n      <td>United Kingdom</td>\n    </tr>\n  </tbody>\n</table>\n</div>"
     },
     "metadata": {},
     "execution_count": 3
    }
   ],
   "source": [
    "from mlxtend.frequent_patterns import apriori\n",
    "from mlxtend.frequent_patterns import association_rules\n",
    "\n",
    "df1 = pd.read_csv('C:\\\\Users\\\\ravs\\\\Development\\\\ML\\\\IIM\\\\L4\\\\data.csv', encoding=\"ISO-8859-1\")\n",
    "df1.head()"
   ]
  },
  {
   "cell_type": "code",
   "execution_count": 143,
   "metadata": {},
   "outputs": [
    {
     "data": {
      "text/plain": [
       "United Kingdom    495478\n",
       "Germany             9495\n",
       "France              8557\n",
       "EIRE                8196\n",
       "Spain               2533\n",
       "Name: Country, dtype: int64"
      ]
     },
     "execution_count": 143,
     "metadata": {},
     "output_type": "execute_result"
    }
   ],
   "source": [
    "df1.Country.value_counts().head(5)"
   ]
  },
  {
   "cell_type": "code",
   "execution_count": 4,
   "metadata": {},
   "outputs": [],
   "source": [
    "df1 = df1[df1.Country == 'France']"
   ]
  },
  {
   "cell_type": "code",
   "execution_count": 5,
   "metadata": {},
   "outputs": [],
   "source": [
    "df1['Description'] = df1['Description'].str.strip()"
   ]
  },
  {
   "cell_type": "code",
   "execution_count": 6,
   "metadata": {},
   "outputs": [],
   "source": [
    "df1.dropna(axis=0, subset=['InvoiceNo'], inplace=True)\n",
    "df1['InvoiceNo'] = df1['InvoiceNo'].astype('str')\n",
    "df1 = df1[~df1['InvoiceNo'].str.contains('C')]"
   ]
  },
  {
   "cell_type": "code",
   "execution_count": 7,
   "metadata": {},
   "outputs": [],
   "source": [
    "df1 = df1[df1.Quantity >0]"
   ]
  },
  {
   "cell_type": "code",
   "execution_count": 8,
   "metadata": {},
   "outputs": [],
   "source": [
    "basket = (df1[df1['Country'] ==\"France\"]\n",
    "          .groupby(['InvoiceNo', 'Description'])['Quantity']\n",
    "          .sum().unstack().reset_index().fillna(0)\n",
    "          .set_index('InvoiceNo'))"
   ]
  },
  {
   "cell_type": "code",
   "execution_count": 118,
   "metadata": {},
   "outputs": [],
   "source": []
  },
  {
   "cell_type": "code",
   "execution_count": 9,
   "metadata": {},
   "outputs": [
    {
     "output_type": "execute_result",
     "data": {
      "text/plain": "Description  10 COLOUR SPACEBOY PEN  12 COLOURED PARTY BALLOONS  \\\nInvoiceNo                                                         \n536370                          0.0                         0.0   \n536852                          0.0                         0.0   \n536974                          0.0                         0.0   \n537065                          0.0                         0.0   \n537463                          0.0                         0.0   \n...                             ...                         ...   \n580986                          0.0                         0.0   \n581001                          0.0                         0.0   \n581171                          0.0                         0.0   \n581279                          0.0                         0.0   \n581587                          0.0                         0.0   \n\nDescription  12 EGG HOUSE PAINTED WOOD  12 MESSAGE CARDS WITH ENVELOPES  \\\nInvoiceNo                                                                 \n536370                             0.0                              0.0   \n536852                             0.0                              0.0   \n536974                             0.0                              0.0   \n537065                             0.0                              0.0   \n537463                             0.0                              0.0   \n...                                ...                              ...   \n580986                             0.0                              0.0   \n581001                             0.0                              0.0   \n581171                             0.0                              0.0   \n581279                             0.0                              0.0   \n581587                             0.0                              0.0   \n\nDescription  12 PENCIL SMALL TUBE WOODLAND  \\\nInvoiceNo                                    \n536370                                 0.0   \n536852                                 0.0   \n536974                                 0.0   \n537065                                 0.0   \n537463                                 0.0   \n...                                    ...   \n580986                                 0.0   \n581001                                 0.0   \n581171                                 0.0   \n581279                                 0.0   \n581587                                 0.0   \n\nDescription  12 PENCILS SMALL TUBE RED RETROSPOT  12 PENCILS SMALL TUBE SKULL  \\\nInvoiceNo                                                                       \n536370                                       0.0                          0.0   \n536852                                       0.0                          0.0   \n536974                                       0.0                          0.0   \n537065                                       0.0                          0.0   \n537463                                       0.0                          0.0   \n...                                          ...                          ...   \n580986                                       0.0                          0.0   \n581001                                       0.0                          0.0   \n581171                                       0.0                          0.0   \n581279                                       0.0                          0.0   \n581587                                       0.0                          0.0   \n\nDescription  12 PENCILS TALL TUBE POSY  12 PENCILS TALL TUBE RED RETROSPOT  \\\nInvoiceNo                                                                    \n536370                             0.0                                 0.0   \n536852                             0.0                                 0.0   \n536974                             0.0                                 0.0   \n537065                             0.0                                 0.0   \n537463                             0.0                                 0.0   \n...                                ...                                 ...   \n580986                             0.0                                 0.0   \n581001                             0.0                                 0.0   \n581171                             0.0                                 0.0   \n581279                             0.0                                 0.0   \n581587                             0.0                                 0.0   \n\nDescription  12 PENCILS TALL TUBE WOODLAND  ...  WRAP VINTAGE PETALS  DESIGN  \\\nInvoiceNo                                   ...                                \n536370                                 0.0  ...                          0.0   \n536852                                 0.0  ...                          0.0   \n536974                                 0.0  ...                          0.0   \n537065                                 0.0  ...                          0.0   \n537463                                 0.0  ...                          0.0   \n...                                    ...  ...                          ...   \n580986                                 0.0  ...                          0.0   \n581001                                 0.0  ...                          0.0   \n581171                                 0.0  ...                          0.0   \n581279                                 0.0  ...                          0.0   \n581587                                 0.0  ...                          0.0   \n\nDescription  YELLOW COAT RACK PARIS FASHION  YELLOW GIANT GARDEN THERMOMETER  \\\nInvoiceNo                                                                      \n536370                                  0.0                              0.0   \n536852                                  0.0                              0.0   \n536974                                  0.0                              0.0   \n537065                                  0.0                              0.0   \n537463                                  0.0                              0.0   \n...                                     ...                              ...   \n580986                                  0.0                              0.0   \n581001                                  0.0                              0.0   \n581171                                  0.0                              0.0   \n581279                                  0.0                              0.0   \n581587                                  0.0                              0.0   \n\nDescription  YELLOW SHARK HELICOPTER  ZINC  STAR T-LIGHT HOLDER  \\\nInvoiceNo                                                         \n536370                           0.0                        0.0   \n536852                           0.0                        0.0   \n536974                           0.0                        0.0   \n537065                           0.0                        0.0   \n537463                           0.0                        0.0   \n...                              ...                        ...   \n580986                           0.0                        0.0   \n581001                           0.0                        0.0   \n581171                           0.0                        0.0   \n581279                           0.0                        0.0   \n581587                           0.0                        0.0   \n\nDescription  ZINC FOLKART SLEIGH BELLS  ZINC HERB GARDEN CONTAINER  \\\nInvoiceNo                                                            \n536370                             0.0                         0.0   \n536852                             0.0                         0.0   \n536974                             0.0                         0.0   \n537065                             0.0                         0.0   \n537463                             0.0                         0.0   \n...                                ...                         ...   \n580986                             0.0                         0.0   \n581001                             0.0                         0.0   \n581171                             0.0                         0.0   \n581279                             0.0                         0.0   \n581587                             0.0                         0.0   \n\nDescription  ZINC METAL HEART DECORATION  ZINC T-LIGHT HOLDER STAR LARGE  \\\nInvoiceNo                                                                  \n536370                               0.0                             0.0   \n536852                               0.0                             0.0   \n536974                               0.0                             0.0   \n537065                               0.0                             0.0   \n537463                               0.0                             0.0   \n...                                  ...                             ...   \n580986                               0.0                             0.0   \n581001                               0.0                             0.0   \n581171                               0.0                             0.0   \n581279                               0.0                             0.0   \n581587                               0.0                             0.0   \n\nDescription  ZINC T-LIGHT HOLDER STARS SMALL  \nInvoiceNo                                     \n536370                                   0.0  \n536852                                   0.0  \n536974                                   0.0  \n537065                                   0.0  \n537463                                   0.0  \n...                                      ...  \n580986                                   0.0  \n581001                                   0.0  \n581171                                   0.0  \n581279                                   0.0  \n581587                                   0.0  \n\n[392 rows x 1563 columns]",
      "text/html": "<div>\n<style scoped>\n    .dataframe tbody tr th:only-of-type {\n        vertical-align: middle;\n    }\n\n    .dataframe tbody tr th {\n        vertical-align: top;\n    }\n\n    .dataframe thead th {\n        text-align: right;\n    }\n</style>\n<table border=\"1\" class=\"dataframe\">\n  <thead>\n    <tr style=\"text-align: right;\">\n      <th>Description</th>\n      <th>10 COLOUR SPACEBOY PEN</th>\n      <th>12 COLOURED PARTY BALLOONS</th>\n      <th>12 EGG HOUSE PAINTED WOOD</th>\n      <th>12 MESSAGE CARDS WITH ENVELOPES</th>\n      <th>12 PENCIL SMALL TUBE WOODLAND</th>\n      <th>12 PENCILS SMALL TUBE RED RETROSPOT</th>\n      <th>12 PENCILS SMALL TUBE SKULL</th>\n      <th>12 PENCILS TALL TUBE POSY</th>\n      <th>12 PENCILS TALL TUBE RED RETROSPOT</th>\n      <th>12 PENCILS TALL TUBE WOODLAND</th>\n      <th>...</th>\n      <th>WRAP VINTAGE PETALS  DESIGN</th>\n      <th>YELLOW COAT RACK PARIS FASHION</th>\n      <th>YELLOW GIANT GARDEN THERMOMETER</th>\n      <th>YELLOW SHARK HELICOPTER</th>\n      <th>ZINC  STAR T-LIGHT HOLDER</th>\n      <th>ZINC FOLKART SLEIGH BELLS</th>\n      <th>ZINC HERB GARDEN CONTAINER</th>\n      <th>ZINC METAL HEART DECORATION</th>\n      <th>ZINC T-LIGHT HOLDER STAR LARGE</th>\n      <th>ZINC T-LIGHT HOLDER STARS SMALL</th>\n    </tr>\n    <tr>\n      <th>InvoiceNo</th>\n      <th></th>\n      <th></th>\n      <th></th>\n      <th></th>\n      <th></th>\n      <th></th>\n      <th></th>\n      <th></th>\n      <th></th>\n      <th></th>\n      <th></th>\n      <th></th>\n      <th></th>\n      <th></th>\n      <th></th>\n      <th></th>\n      <th></th>\n      <th></th>\n      <th></th>\n      <th></th>\n      <th></th>\n    </tr>\n  </thead>\n  <tbody>\n    <tr>\n      <th>536370</th>\n      <td>0.0</td>\n      <td>0.0</td>\n      <td>0.0</td>\n      <td>0.0</td>\n      <td>0.0</td>\n      <td>0.0</td>\n      <td>0.0</td>\n      <td>0.0</td>\n      <td>0.0</td>\n      <td>0.0</td>\n      <td>...</td>\n      <td>0.0</td>\n      <td>0.0</td>\n      <td>0.0</td>\n      <td>0.0</td>\n      <td>0.0</td>\n      <td>0.0</td>\n      <td>0.0</td>\n      <td>0.0</td>\n      <td>0.0</td>\n      <td>0.0</td>\n    </tr>\n    <tr>\n      <th>536852</th>\n      <td>0.0</td>\n      <td>0.0</td>\n      <td>0.0</td>\n      <td>0.0</td>\n      <td>0.0</td>\n      <td>0.0</td>\n      <td>0.0</td>\n      <td>0.0</td>\n      <td>0.0</td>\n      <td>0.0</td>\n      <td>...</td>\n      <td>0.0</td>\n      <td>0.0</td>\n      <td>0.0</td>\n      <td>0.0</td>\n      <td>0.0</td>\n      <td>0.0</td>\n      <td>0.0</td>\n      <td>0.0</td>\n      <td>0.0</td>\n      <td>0.0</td>\n    </tr>\n    <tr>\n      <th>536974</th>\n      <td>0.0</td>\n      <td>0.0</td>\n      <td>0.0</td>\n      <td>0.0</td>\n      <td>0.0</td>\n      <td>0.0</td>\n      <td>0.0</td>\n      <td>0.0</td>\n      <td>0.0</td>\n      <td>0.0</td>\n      <td>...</td>\n      <td>0.0</td>\n      <td>0.0</td>\n      <td>0.0</td>\n      <td>0.0</td>\n      <td>0.0</td>\n      <td>0.0</td>\n      <td>0.0</td>\n      <td>0.0</td>\n      <td>0.0</td>\n      <td>0.0</td>\n    </tr>\n    <tr>\n      <th>537065</th>\n      <td>0.0</td>\n      <td>0.0</td>\n      <td>0.0</td>\n      <td>0.0</td>\n      <td>0.0</td>\n      <td>0.0</td>\n      <td>0.0</td>\n      <td>0.0</td>\n      <td>0.0</td>\n      <td>0.0</td>\n      <td>...</td>\n      <td>0.0</td>\n      <td>0.0</td>\n      <td>0.0</td>\n      <td>0.0</td>\n      <td>0.0</td>\n      <td>0.0</td>\n      <td>0.0</td>\n      <td>0.0</td>\n      <td>0.0</td>\n      <td>0.0</td>\n    </tr>\n    <tr>\n      <th>537463</th>\n      <td>0.0</td>\n      <td>0.0</td>\n      <td>0.0</td>\n      <td>0.0</td>\n      <td>0.0</td>\n      <td>0.0</td>\n      <td>0.0</td>\n      <td>0.0</td>\n      <td>0.0</td>\n      <td>0.0</td>\n      <td>...</td>\n      <td>0.0</td>\n      <td>0.0</td>\n      <td>0.0</td>\n      <td>0.0</td>\n      <td>0.0</td>\n      <td>0.0</td>\n      <td>0.0</td>\n      <td>0.0</td>\n      <td>0.0</td>\n      <td>0.0</td>\n    </tr>\n    <tr>\n      <th>...</th>\n      <td>...</td>\n      <td>...</td>\n      <td>...</td>\n      <td>...</td>\n      <td>...</td>\n      <td>...</td>\n      <td>...</td>\n      <td>...</td>\n      <td>...</td>\n      <td>...</td>\n      <td>...</td>\n      <td>...</td>\n      <td>...</td>\n      <td>...</td>\n      <td>...</td>\n      <td>...</td>\n      <td>...</td>\n      <td>...</td>\n      <td>...</td>\n      <td>...</td>\n      <td>...</td>\n    </tr>\n    <tr>\n      <th>580986</th>\n      <td>0.0</td>\n      <td>0.0</td>\n      <td>0.0</td>\n      <td>0.0</td>\n      <td>0.0</td>\n      <td>0.0</td>\n      <td>0.0</td>\n      <td>0.0</td>\n      <td>0.0</td>\n      <td>0.0</td>\n      <td>...</td>\n      <td>0.0</td>\n      <td>0.0</td>\n      <td>0.0</td>\n      <td>0.0</td>\n      <td>0.0</td>\n      <td>0.0</td>\n      <td>0.0</td>\n      <td>0.0</td>\n      <td>0.0</td>\n      <td>0.0</td>\n    </tr>\n    <tr>\n      <th>581001</th>\n      <td>0.0</td>\n      <td>0.0</td>\n      <td>0.0</td>\n      <td>0.0</td>\n      <td>0.0</td>\n      <td>0.0</td>\n      <td>0.0</td>\n      <td>0.0</td>\n      <td>0.0</td>\n      <td>0.0</td>\n      <td>...</td>\n      <td>0.0</td>\n      <td>0.0</td>\n      <td>0.0</td>\n      <td>0.0</td>\n      <td>0.0</td>\n      <td>0.0</td>\n      <td>0.0</td>\n      <td>0.0</td>\n      <td>0.0</td>\n      <td>0.0</td>\n    </tr>\n    <tr>\n      <th>581171</th>\n      <td>0.0</td>\n      <td>0.0</td>\n      <td>0.0</td>\n      <td>0.0</td>\n      <td>0.0</td>\n      <td>0.0</td>\n      <td>0.0</td>\n      <td>0.0</td>\n      <td>0.0</td>\n      <td>0.0</td>\n      <td>...</td>\n      <td>0.0</td>\n      <td>0.0</td>\n      <td>0.0</td>\n      <td>0.0</td>\n      <td>0.0</td>\n      <td>0.0</td>\n      <td>0.0</td>\n      <td>0.0</td>\n      <td>0.0</td>\n      <td>0.0</td>\n    </tr>\n    <tr>\n      <th>581279</th>\n      <td>0.0</td>\n      <td>0.0</td>\n      <td>0.0</td>\n      <td>0.0</td>\n      <td>0.0</td>\n      <td>0.0</td>\n      <td>0.0</td>\n      <td>0.0</td>\n      <td>0.0</td>\n      <td>0.0</td>\n      <td>...</td>\n      <td>0.0</td>\n      <td>0.0</td>\n      <td>0.0</td>\n      <td>0.0</td>\n      <td>0.0</td>\n      <td>0.0</td>\n      <td>0.0</td>\n      <td>0.0</td>\n      <td>0.0</td>\n      <td>0.0</td>\n    </tr>\n    <tr>\n      <th>581587</th>\n      <td>0.0</td>\n      <td>0.0</td>\n      <td>0.0</td>\n      <td>0.0</td>\n      <td>0.0</td>\n      <td>0.0</td>\n      <td>0.0</td>\n      <td>0.0</td>\n      <td>0.0</td>\n      <td>0.0</td>\n      <td>...</td>\n      <td>0.0</td>\n      <td>0.0</td>\n      <td>0.0</td>\n      <td>0.0</td>\n      <td>0.0</td>\n      <td>0.0</td>\n      <td>0.0</td>\n      <td>0.0</td>\n      <td>0.0</td>\n      <td>0.0</td>\n    </tr>\n  </tbody>\n</table>\n<p>392 rows × 1563 columns</p>\n</div>"
     },
     "metadata": {},
     "execution_count": 9
    }
   ],
   "source": [
    "basket"
   ]
  },
  {
   "cell_type": "code",
   "execution_count": 10,
   "metadata": {},
   "outputs": [
    {
     "output_type": "execute_result",
     "data": {
      "text/plain": "InvoiceNo\n536370    24.0\n536852     0.0\n536974     0.0\n537065     4.0\n537463     0.0\n537468     0.0\n537693     0.0\n537897     0.0\n537967     0.0\n538008     0.0\nName: ALARM CLOCK BAKELIKE RED, dtype: float64"
     },
     "metadata": {},
     "execution_count": 10
    }
   ],
   "source": [
    "basket['ALARM CLOCK BAKELIKE RED'].head(10)"
   ]
  },
  {
   "cell_type": "code",
   "execution_count": 11,
   "metadata": {},
   "outputs": [],
   "source": [
    "def convert_into_binary(x):\n",
    "    if x > 0:\n",
    "        return 1\n",
    "    else:\n",
    "        return 0"
   ]
  },
  {
   "cell_type": "code",
   "execution_count": 12,
   "metadata": {},
   "outputs": [],
   "source": [
    "basket_sets = basket.applymap(convert_into_binary)"
   ]
  },
  {
   "cell_type": "code",
   "execution_count": 13,
   "metadata": {},
   "outputs": [
    {
     "output_type": "execute_result",
     "data": {
      "text/plain": "InvoiceNo\n536370    1\n536852    0\n536974    0\n537065    1\n537463    0\nName: ALARM CLOCK BAKELIKE RED, dtype: int64"
     },
     "metadata": {},
     "execution_count": 13
    }
   ],
   "source": [
    "basket_sets['ALARM CLOCK BAKELIKE RED'].head()"
   ]
  },
  {
   "cell_type": "code",
   "execution_count": 14,
   "metadata": {},
   "outputs": [
    {
     "output_type": "execute_result",
     "data": {
      "text/plain": "InvoiceNo\n536370    1\n536852    1\n536974    1\n537065    1\n537463    1\n         ..\n580986    1\n581001    1\n581171    1\n581279    1\n581587    0\nName: POSTAGE, Length: 392, dtype: int64"
     },
     "metadata": {},
     "execution_count": 14
    }
   ],
   "source": [
    "basket_sets['POSTAGE']"
   ]
  },
  {
   "cell_type": "code",
   "execution_count": 15,
   "metadata": {},
   "outputs": [],
   "source": [
    " basket_sets.drop(columns=['POSTAGE'],inplace=True)"
   ]
  },
  {
   "cell_type": "code",
   "execution_count": 18,
   "metadata": {},
   "outputs": [],
   "source": [
    "frequent_itemsets = apriori(basket_sets, min_support=0.07, use_colnames=True)"
   ]
  },
  {
   "cell_type": "code",
   "execution_count": 19,
   "metadata": {},
   "outputs": [
    {
     "output_type": "execute_result",
     "data": {
      "text/plain": "     support                                           itemsets\n0   0.071429                      (4 TRADITIONAL SPINNING TOPS)\n1   0.096939                       (ALARM CLOCK BAKELIKE GREEN)\n2   0.102041                        (ALARM CLOCK BAKELIKE PINK)\n3   0.094388                         (ALARM CLOCK BAKELIKE RED)\n4   0.081633                     (BAKING SET 9 PIECE RETROSPOT)\n5   0.071429                     (CHILDRENS CUTLERY DOLLY GIRL)\n6   0.099490                             (DOLLY GIRL LUNCH BOX)\n7   0.096939                          (JUMBO BAG RED RETROSPOT)\n8   0.076531                       (JUMBO BAG WOODLAND ANIMALS)\n9   0.125000                           (LUNCH BAG APPLE DESIGN)\n10  0.084184                      (LUNCH BAG DOLLY GIRL DESIGN)\n11  0.153061                          (LUNCH BAG RED RETROSPOT)\n12  0.119898                        (LUNCH BAG SPACEBOY DESIGN)\n13  0.117347                               (LUNCH BAG WOODLAND)\n14  0.142857                 (LUNCH BOX WITH CUTLERY RETROSPOT)\n15  0.104592                           (MINI PAINT SET VINTAGE)\n16  0.102041                  (PACK OF 72 RETROSPOT CAKE CASES)\n17  0.081633                          (PAPER BUNTING RETROSPOT)\n18  0.168367                    (PLASTERS IN TIN CIRCUS PARADE)\n19  0.137755                         (PLASTERS IN TIN SPACEBOY)\n20  0.081633                        (PLASTERS IN TIN STRONGMAN)\n21  0.170918                 (PLASTERS IN TIN WOODLAND ANIMALS)\n22  0.188776                               (RABBIT NIGHT LIGHT)\n23  0.096939                      (RED RETROSPOT CHARLOTTE BAG)\n24  0.137755                         (RED RETROSPOT MINI CASES)\n25  0.071429                         (RED RETROSPOT PICNIC BAG)\n26  0.181122                    (RED TOADSTOOL LED NIGHT LIGHT)\n27  0.125000                         (REGENCY CAKESTAND 3 TIER)\n28  0.086735                  (RETROSPOT TEA SET CERAMIC 11 PC)\n29  0.107143                (ROUND SNACK BOXES SET OF 4 FRUITS)\n30  0.158163               (ROUND SNACK BOXES SET OF4 WOODLAND)\n31  0.076531                (SET/10 RED POLKADOT PARTY CANDLES)\n32  0.132653               (SET/20 RED RETROSPOT PAPER NAPKINS)\n33  0.137755                      (SET/6 RED SPOTTY PAPER CUPS)\n34  0.127551                    (SET/6 RED SPOTTY PAPER PLATES)\n35  0.071429                           (SPACEBOY BIRTHDAY CARD)\n36  0.125000                               (SPACEBOY LUNCH BOX)\n37  0.122449                (STRAWBERRY LUNCH BOX WITH CUTLERY)\n38  0.094388                          (TEA PARTY BIRTHDAY CARD)\n39  0.073980                           (WOODLAND CHARLOTTE BAG)\n40  0.073980  (ALARM CLOCK BAKELIKE GREEN, ALARM CLOCK BAKEL...\n41  0.079082  (ALARM CLOCK BAKELIKE RED, ALARM CLOCK BAKELIK...\n42  0.073980  (ALARM CLOCK BAKELIKE RED, ALARM CLOCK BAKELIK...\n43  0.071429         (DOLLY GIRL LUNCH BOX, SPACEBOY LUNCH BOX)\n44  0.089286  (PLASTERS IN TIN SPACEBOY, PLASTERS IN TIN CIR...\n45  0.102041  (PLASTERS IN TIN WOODLAND ANIMALS, PLASTERS IN...\n46  0.104592  (PLASTERS IN TIN SPACEBOY, PLASTERS IN TIN WOO...\n47  0.102041  (SET/6 RED SPOTTY PAPER CUPS, SET/20 RED RETRO...\n48  0.102041  (SET/6 RED SPOTTY PAPER PLATES, SET/20 RED RET...\n49  0.122449  (SET/6 RED SPOTTY PAPER CUPS, SET/6 RED SPOTTY...\n50  0.099490  (SET/6 RED SPOTTY PAPER CUPS, SET/6 RED SPOTTY...",
      "text/html": "<div>\n<style scoped>\n    .dataframe tbody tr th:only-of-type {\n        vertical-align: middle;\n    }\n\n    .dataframe tbody tr th {\n        vertical-align: top;\n    }\n\n    .dataframe thead th {\n        text-align: right;\n    }\n</style>\n<table border=\"1\" class=\"dataframe\">\n  <thead>\n    <tr style=\"text-align: right;\">\n      <th></th>\n      <th>support</th>\n      <th>itemsets</th>\n    </tr>\n  </thead>\n  <tbody>\n    <tr>\n      <th>0</th>\n      <td>0.071429</td>\n      <td>(4 TRADITIONAL SPINNING TOPS)</td>\n    </tr>\n    <tr>\n      <th>1</th>\n      <td>0.096939</td>\n      <td>(ALARM CLOCK BAKELIKE GREEN)</td>\n    </tr>\n    <tr>\n      <th>2</th>\n      <td>0.102041</td>\n      <td>(ALARM CLOCK BAKELIKE PINK)</td>\n    </tr>\n    <tr>\n      <th>3</th>\n      <td>0.094388</td>\n      <td>(ALARM CLOCK BAKELIKE RED)</td>\n    </tr>\n    <tr>\n      <th>4</th>\n      <td>0.081633</td>\n      <td>(BAKING SET 9 PIECE RETROSPOT)</td>\n    </tr>\n    <tr>\n      <th>5</th>\n      <td>0.071429</td>\n      <td>(CHILDRENS CUTLERY DOLLY GIRL)</td>\n    </tr>\n    <tr>\n      <th>6</th>\n      <td>0.099490</td>\n      <td>(DOLLY GIRL LUNCH BOX)</td>\n    </tr>\n    <tr>\n      <th>7</th>\n      <td>0.096939</td>\n      <td>(JUMBO BAG RED RETROSPOT)</td>\n    </tr>\n    <tr>\n      <th>8</th>\n      <td>0.076531</td>\n      <td>(JUMBO BAG WOODLAND ANIMALS)</td>\n    </tr>\n    <tr>\n      <th>9</th>\n      <td>0.125000</td>\n      <td>(LUNCH BAG APPLE DESIGN)</td>\n    </tr>\n    <tr>\n      <th>10</th>\n      <td>0.084184</td>\n      <td>(LUNCH BAG DOLLY GIRL DESIGN)</td>\n    </tr>\n    <tr>\n      <th>11</th>\n      <td>0.153061</td>\n      <td>(LUNCH BAG RED RETROSPOT)</td>\n    </tr>\n    <tr>\n      <th>12</th>\n      <td>0.119898</td>\n      <td>(LUNCH BAG SPACEBOY DESIGN)</td>\n    </tr>\n    <tr>\n      <th>13</th>\n      <td>0.117347</td>\n      <td>(LUNCH BAG WOODLAND)</td>\n    </tr>\n    <tr>\n      <th>14</th>\n      <td>0.142857</td>\n      <td>(LUNCH BOX WITH CUTLERY RETROSPOT)</td>\n    </tr>\n    <tr>\n      <th>15</th>\n      <td>0.104592</td>\n      <td>(MINI PAINT SET VINTAGE)</td>\n    </tr>\n    <tr>\n      <th>16</th>\n      <td>0.102041</td>\n      <td>(PACK OF 72 RETROSPOT CAKE CASES)</td>\n    </tr>\n    <tr>\n      <th>17</th>\n      <td>0.081633</td>\n      <td>(PAPER BUNTING RETROSPOT)</td>\n    </tr>\n    <tr>\n      <th>18</th>\n      <td>0.168367</td>\n      <td>(PLASTERS IN TIN CIRCUS PARADE)</td>\n    </tr>\n    <tr>\n      <th>19</th>\n      <td>0.137755</td>\n      <td>(PLASTERS IN TIN SPACEBOY)</td>\n    </tr>\n    <tr>\n      <th>20</th>\n      <td>0.081633</td>\n      <td>(PLASTERS IN TIN STRONGMAN)</td>\n    </tr>\n    <tr>\n      <th>21</th>\n      <td>0.170918</td>\n      <td>(PLASTERS IN TIN WOODLAND ANIMALS)</td>\n    </tr>\n    <tr>\n      <th>22</th>\n      <td>0.188776</td>\n      <td>(RABBIT NIGHT LIGHT)</td>\n    </tr>\n    <tr>\n      <th>23</th>\n      <td>0.096939</td>\n      <td>(RED RETROSPOT CHARLOTTE BAG)</td>\n    </tr>\n    <tr>\n      <th>24</th>\n      <td>0.137755</td>\n      <td>(RED RETROSPOT MINI CASES)</td>\n    </tr>\n    <tr>\n      <th>25</th>\n      <td>0.071429</td>\n      <td>(RED RETROSPOT PICNIC BAG)</td>\n    </tr>\n    <tr>\n      <th>26</th>\n      <td>0.181122</td>\n      <td>(RED TOADSTOOL LED NIGHT LIGHT)</td>\n    </tr>\n    <tr>\n      <th>27</th>\n      <td>0.125000</td>\n      <td>(REGENCY CAKESTAND 3 TIER)</td>\n    </tr>\n    <tr>\n      <th>28</th>\n      <td>0.086735</td>\n      <td>(RETROSPOT TEA SET CERAMIC 11 PC)</td>\n    </tr>\n    <tr>\n      <th>29</th>\n      <td>0.107143</td>\n      <td>(ROUND SNACK BOXES SET OF 4 FRUITS)</td>\n    </tr>\n    <tr>\n      <th>30</th>\n      <td>0.158163</td>\n      <td>(ROUND SNACK BOXES SET OF4 WOODLAND)</td>\n    </tr>\n    <tr>\n      <th>31</th>\n      <td>0.076531</td>\n      <td>(SET/10 RED POLKADOT PARTY CANDLES)</td>\n    </tr>\n    <tr>\n      <th>32</th>\n      <td>0.132653</td>\n      <td>(SET/20 RED RETROSPOT PAPER NAPKINS)</td>\n    </tr>\n    <tr>\n      <th>33</th>\n      <td>0.137755</td>\n      <td>(SET/6 RED SPOTTY PAPER CUPS)</td>\n    </tr>\n    <tr>\n      <th>34</th>\n      <td>0.127551</td>\n      <td>(SET/6 RED SPOTTY PAPER PLATES)</td>\n    </tr>\n    <tr>\n      <th>35</th>\n      <td>0.071429</td>\n      <td>(SPACEBOY BIRTHDAY CARD)</td>\n    </tr>\n    <tr>\n      <th>36</th>\n      <td>0.125000</td>\n      <td>(SPACEBOY LUNCH BOX)</td>\n    </tr>\n    <tr>\n      <th>37</th>\n      <td>0.122449</td>\n      <td>(STRAWBERRY LUNCH BOX WITH CUTLERY)</td>\n    </tr>\n    <tr>\n      <th>38</th>\n      <td>0.094388</td>\n      <td>(TEA PARTY BIRTHDAY CARD)</td>\n    </tr>\n    <tr>\n      <th>39</th>\n      <td>0.073980</td>\n      <td>(WOODLAND CHARLOTTE BAG)</td>\n    </tr>\n    <tr>\n      <th>40</th>\n      <td>0.073980</td>\n      <td>(ALARM CLOCK BAKELIKE GREEN, ALARM CLOCK BAKEL...</td>\n    </tr>\n    <tr>\n      <th>41</th>\n      <td>0.079082</td>\n      <td>(ALARM CLOCK BAKELIKE RED, ALARM CLOCK BAKELIK...</td>\n    </tr>\n    <tr>\n      <th>42</th>\n      <td>0.073980</td>\n      <td>(ALARM CLOCK BAKELIKE RED, ALARM CLOCK BAKELIK...</td>\n    </tr>\n    <tr>\n      <th>43</th>\n      <td>0.071429</td>\n      <td>(DOLLY GIRL LUNCH BOX, SPACEBOY LUNCH BOX)</td>\n    </tr>\n    <tr>\n      <th>44</th>\n      <td>0.089286</td>\n      <td>(PLASTERS IN TIN SPACEBOY, PLASTERS IN TIN CIR...</td>\n    </tr>\n    <tr>\n      <th>45</th>\n      <td>0.102041</td>\n      <td>(PLASTERS IN TIN WOODLAND ANIMALS, PLASTERS IN...</td>\n    </tr>\n    <tr>\n      <th>46</th>\n      <td>0.104592</td>\n      <td>(PLASTERS IN TIN SPACEBOY, PLASTERS IN TIN WOO...</td>\n    </tr>\n    <tr>\n      <th>47</th>\n      <td>0.102041</td>\n      <td>(SET/6 RED SPOTTY PAPER CUPS, SET/20 RED RETRO...</td>\n    </tr>\n    <tr>\n      <th>48</th>\n      <td>0.102041</td>\n      <td>(SET/6 RED SPOTTY PAPER PLATES, SET/20 RED RET...</td>\n    </tr>\n    <tr>\n      <th>49</th>\n      <td>0.122449</td>\n      <td>(SET/6 RED SPOTTY PAPER CUPS, SET/6 RED SPOTTY...</td>\n    </tr>\n    <tr>\n      <th>50</th>\n      <td>0.099490</td>\n      <td>(SET/6 RED SPOTTY PAPER CUPS, SET/6 RED SPOTTY...</td>\n    </tr>\n  </tbody>\n</table>\n</div>"
     },
     "metadata": {},
     "execution_count": 19
    }
   ],
   "source": [
    "frequent_itemsets"
   ]
  },
  {
   "cell_type": "code",
   "execution_count": 22,
   "metadata": {},
   "outputs": [],
   "source": [
    "rules_mlxtend = association_rules(frequent_itemsets, metric=\"lift\", min_threshold=1)\n"
   ]
  },
  {
   "cell_type": "code",
   "execution_count": 23,
   "metadata": {},
   "outputs": [
    {
     "output_type": "execute_result",
     "data": {
      "text/plain": "                                          antecedents  \\\n0                        (ALARM CLOCK BAKELIKE GREEN)   \n1                         (ALARM CLOCK BAKELIKE PINK)   \n2                          (ALARM CLOCK BAKELIKE RED)   \n3                        (ALARM CLOCK BAKELIKE GREEN)   \n4                          (ALARM CLOCK BAKELIKE RED)   \n5                         (ALARM CLOCK BAKELIKE PINK)   \n6                              (DOLLY GIRL LUNCH BOX)   \n7                                (SPACEBOY LUNCH BOX)   \n8                          (PLASTERS IN TIN SPACEBOY)   \n9                     (PLASTERS IN TIN CIRCUS PARADE)   \n10                 (PLASTERS IN TIN WOODLAND ANIMALS)   \n11                    (PLASTERS IN TIN CIRCUS PARADE)   \n12                         (PLASTERS IN TIN SPACEBOY)   \n13                 (PLASTERS IN TIN WOODLAND ANIMALS)   \n14                      (SET/6 RED SPOTTY PAPER CUPS)   \n15               (SET/20 RED RETROSPOT PAPER NAPKINS)   \n16                    (SET/6 RED SPOTTY PAPER PLATES)   \n17               (SET/20 RED RETROSPOT PAPER NAPKINS)   \n18                      (SET/6 RED SPOTTY PAPER CUPS)   \n19                    (SET/6 RED SPOTTY PAPER PLATES)   \n20  (SET/6 RED SPOTTY PAPER CUPS, SET/6 RED SPOTTY...   \n21  (SET/6 RED SPOTTY PAPER CUPS, SET/20 RED RETRO...   \n22  (SET/6 RED SPOTTY PAPER PLATES, SET/20 RED RET...   \n23                      (SET/6 RED SPOTTY PAPER CUPS)   \n24                    (SET/6 RED SPOTTY PAPER PLATES)   \n25               (SET/20 RED RETROSPOT PAPER NAPKINS)   \n\n                                          consequents  antecedent support  \\\n0                         (ALARM CLOCK BAKELIKE PINK)            0.096939   \n1                        (ALARM CLOCK BAKELIKE GREEN)            0.102041   \n2                        (ALARM CLOCK BAKELIKE GREEN)            0.094388   \n3                          (ALARM CLOCK BAKELIKE RED)            0.096939   \n4                         (ALARM CLOCK BAKELIKE PINK)            0.094388   \n5                          (ALARM CLOCK BAKELIKE RED)            0.102041   \n6                                (SPACEBOY LUNCH BOX)            0.099490   \n7                              (DOLLY GIRL LUNCH BOX)            0.125000   \n8                     (PLASTERS IN TIN CIRCUS PARADE)            0.137755   \n9                          (PLASTERS IN TIN SPACEBOY)            0.168367   \n10                    (PLASTERS IN TIN CIRCUS PARADE)            0.170918   \n11                 (PLASTERS IN TIN WOODLAND ANIMALS)            0.168367   \n12                 (PLASTERS IN TIN WOODLAND ANIMALS)            0.137755   \n13                         (PLASTERS IN TIN SPACEBOY)            0.170918   \n14               (SET/20 RED RETROSPOT PAPER NAPKINS)            0.137755   \n15                      (SET/6 RED SPOTTY PAPER CUPS)            0.132653   \n16               (SET/20 RED RETROSPOT PAPER NAPKINS)            0.127551   \n17                    (SET/6 RED SPOTTY PAPER PLATES)            0.132653   \n18                    (SET/6 RED SPOTTY PAPER PLATES)            0.137755   \n19                      (SET/6 RED SPOTTY PAPER CUPS)            0.127551   \n20               (SET/20 RED RETROSPOT PAPER NAPKINS)            0.122449   \n21                    (SET/6 RED SPOTTY PAPER PLATES)            0.102041   \n22                      (SET/6 RED SPOTTY PAPER CUPS)            0.102041   \n23  (SET/6 RED SPOTTY PAPER PLATES, SET/20 RED RET...            0.137755   \n24  (SET/6 RED SPOTTY PAPER CUPS, SET/20 RED RETRO...            0.127551   \n25  (SET/6 RED SPOTTY PAPER CUPS, SET/6 RED SPOTTY...            0.132653   \n\n    consequent support   support  confidence      lift  leverage  conviction  \n0             0.102041  0.073980    0.763158  7.478947  0.064088    3.791383  \n1             0.096939  0.073980    0.725000  7.478947  0.064088    3.283859  \n2             0.096939  0.079082    0.837838  8.642959  0.069932    5.568878  \n3             0.094388  0.079082    0.815789  8.642959  0.069932    4.916181  \n4             0.102041  0.073980    0.783784  7.681081  0.064348    4.153061  \n5             0.094388  0.073980    0.725000  7.681081  0.064348    3.293135  \n6             0.125000  0.071429    0.717949  5.743590  0.058992    3.102273  \n7             0.099490  0.071429    0.571429  5.743590  0.058992    2.101190  \n8             0.168367  0.089286    0.648148  3.849607  0.066092    2.363588  \n9             0.137755  0.089286    0.530303  3.849607  0.066092    1.835747  \n10            0.168367  0.102041    0.597015  3.545907  0.073264    2.063681  \n11            0.170918  0.102041    0.606061  3.545907  0.073264    2.104592  \n12            0.170918  0.104592    0.759259  4.442233  0.081047    3.443878  \n13            0.137755  0.104592    0.611940  4.442233  0.081047    2.221939  \n14            0.132653  0.102041    0.740741  5.584046  0.083767    3.345481  \n15            0.137755  0.102041    0.769231  5.584046  0.083767    3.736395  \n16            0.132653  0.102041    0.800000  6.030769  0.085121    4.336735  \n17            0.127551  0.102041    0.769231  6.030769  0.085121    3.780612  \n18            0.127551  0.122449    0.888889  6.968889  0.104878    7.852041  \n19            0.137755  0.122449    0.960000  6.968889  0.104878   21.556122  \n20            0.132653  0.099490    0.812500  6.125000  0.083247    4.625850  \n21            0.127551  0.099490    0.975000  7.644000  0.086474   34.897959  \n22            0.137755  0.099490    0.975000  7.077778  0.085433   34.489796  \n23            0.102041  0.099490    0.722222  7.077778  0.085433    3.232653  \n24            0.102041  0.099490    0.780000  7.644000  0.086474    4.081633  \n25            0.122449  0.099490    0.750000  6.125000  0.083247    3.510204  ",
      "text/html": "<div>\n<style scoped>\n    .dataframe tbody tr th:only-of-type {\n        vertical-align: middle;\n    }\n\n    .dataframe tbody tr th {\n        vertical-align: top;\n    }\n\n    .dataframe thead th {\n        text-align: right;\n    }\n</style>\n<table border=\"1\" class=\"dataframe\">\n  <thead>\n    <tr style=\"text-align: right;\">\n      <th></th>\n      <th>antecedents</th>\n      <th>consequents</th>\n      <th>antecedent support</th>\n      <th>consequent support</th>\n      <th>support</th>\n      <th>confidence</th>\n      <th>lift</th>\n      <th>leverage</th>\n      <th>conviction</th>\n    </tr>\n  </thead>\n  <tbody>\n    <tr>\n      <th>0</th>\n      <td>(ALARM CLOCK BAKELIKE GREEN)</td>\n      <td>(ALARM CLOCK BAKELIKE PINK)</td>\n      <td>0.096939</td>\n      <td>0.102041</td>\n      <td>0.073980</td>\n      <td>0.763158</td>\n      <td>7.478947</td>\n      <td>0.064088</td>\n      <td>3.791383</td>\n    </tr>\n    <tr>\n      <th>1</th>\n      <td>(ALARM CLOCK BAKELIKE PINK)</td>\n      <td>(ALARM CLOCK BAKELIKE GREEN)</td>\n      <td>0.102041</td>\n      <td>0.096939</td>\n      <td>0.073980</td>\n      <td>0.725000</td>\n      <td>7.478947</td>\n      <td>0.064088</td>\n      <td>3.283859</td>\n    </tr>\n    <tr>\n      <th>2</th>\n      <td>(ALARM CLOCK BAKELIKE RED)</td>\n      <td>(ALARM CLOCK BAKELIKE GREEN)</td>\n      <td>0.094388</td>\n      <td>0.096939</td>\n      <td>0.079082</td>\n      <td>0.837838</td>\n      <td>8.642959</td>\n      <td>0.069932</td>\n      <td>5.568878</td>\n    </tr>\n    <tr>\n      <th>3</th>\n      <td>(ALARM CLOCK BAKELIKE GREEN)</td>\n      <td>(ALARM CLOCK BAKELIKE RED)</td>\n      <td>0.096939</td>\n      <td>0.094388</td>\n      <td>0.079082</td>\n      <td>0.815789</td>\n      <td>8.642959</td>\n      <td>0.069932</td>\n      <td>4.916181</td>\n    </tr>\n    <tr>\n      <th>4</th>\n      <td>(ALARM CLOCK BAKELIKE RED)</td>\n      <td>(ALARM CLOCK BAKELIKE PINK)</td>\n      <td>0.094388</td>\n      <td>0.102041</td>\n      <td>0.073980</td>\n      <td>0.783784</td>\n      <td>7.681081</td>\n      <td>0.064348</td>\n      <td>4.153061</td>\n    </tr>\n    <tr>\n      <th>5</th>\n      <td>(ALARM CLOCK BAKELIKE PINK)</td>\n      <td>(ALARM CLOCK BAKELIKE RED)</td>\n      <td>0.102041</td>\n      <td>0.094388</td>\n      <td>0.073980</td>\n      <td>0.725000</td>\n      <td>7.681081</td>\n      <td>0.064348</td>\n      <td>3.293135</td>\n    </tr>\n    <tr>\n      <th>6</th>\n      <td>(DOLLY GIRL LUNCH BOX)</td>\n      <td>(SPACEBOY LUNCH BOX)</td>\n      <td>0.099490</td>\n      <td>0.125000</td>\n      <td>0.071429</td>\n      <td>0.717949</td>\n      <td>5.743590</td>\n      <td>0.058992</td>\n      <td>3.102273</td>\n    </tr>\n    <tr>\n      <th>7</th>\n      <td>(SPACEBOY LUNCH BOX)</td>\n      <td>(DOLLY GIRL LUNCH BOX)</td>\n      <td>0.125000</td>\n      <td>0.099490</td>\n      <td>0.071429</td>\n      <td>0.571429</td>\n      <td>5.743590</td>\n      <td>0.058992</td>\n      <td>2.101190</td>\n    </tr>\n    <tr>\n      <th>8</th>\n      <td>(PLASTERS IN TIN SPACEBOY)</td>\n      <td>(PLASTERS IN TIN CIRCUS PARADE)</td>\n      <td>0.137755</td>\n      <td>0.168367</td>\n      <td>0.089286</td>\n      <td>0.648148</td>\n      <td>3.849607</td>\n      <td>0.066092</td>\n      <td>2.363588</td>\n    </tr>\n    <tr>\n      <th>9</th>\n      <td>(PLASTERS IN TIN CIRCUS PARADE)</td>\n      <td>(PLASTERS IN TIN SPACEBOY)</td>\n      <td>0.168367</td>\n      <td>0.137755</td>\n      <td>0.089286</td>\n      <td>0.530303</td>\n      <td>3.849607</td>\n      <td>0.066092</td>\n      <td>1.835747</td>\n    </tr>\n    <tr>\n      <th>10</th>\n      <td>(PLASTERS IN TIN WOODLAND ANIMALS)</td>\n      <td>(PLASTERS IN TIN CIRCUS PARADE)</td>\n      <td>0.170918</td>\n      <td>0.168367</td>\n      <td>0.102041</td>\n      <td>0.597015</td>\n      <td>3.545907</td>\n      <td>0.073264</td>\n      <td>2.063681</td>\n    </tr>\n    <tr>\n      <th>11</th>\n      <td>(PLASTERS IN TIN CIRCUS PARADE)</td>\n      <td>(PLASTERS IN TIN WOODLAND ANIMALS)</td>\n      <td>0.168367</td>\n      <td>0.170918</td>\n      <td>0.102041</td>\n      <td>0.606061</td>\n      <td>3.545907</td>\n      <td>0.073264</td>\n      <td>2.104592</td>\n    </tr>\n    <tr>\n      <th>12</th>\n      <td>(PLASTERS IN TIN SPACEBOY)</td>\n      <td>(PLASTERS IN TIN WOODLAND ANIMALS)</td>\n      <td>0.137755</td>\n      <td>0.170918</td>\n      <td>0.104592</td>\n      <td>0.759259</td>\n      <td>4.442233</td>\n      <td>0.081047</td>\n      <td>3.443878</td>\n    </tr>\n    <tr>\n      <th>13</th>\n      <td>(PLASTERS IN TIN WOODLAND ANIMALS)</td>\n      <td>(PLASTERS IN TIN SPACEBOY)</td>\n      <td>0.170918</td>\n      <td>0.137755</td>\n      <td>0.104592</td>\n      <td>0.611940</td>\n      <td>4.442233</td>\n      <td>0.081047</td>\n      <td>2.221939</td>\n    </tr>\n    <tr>\n      <th>14</th>\n      <td>(SET/6 RED SPOTTY PAPER CUPS)</td>\n      <td>(SET/20 RED RETROSPOT PAPER NAPKINS)</td>\n      <td>0.137755</td>\n      <td>0.132653</td>\n      <td>0.102041</td>\n      <td>0.740741</td>\n      <td>5.584046</td>\n      <td>0.083767</td>\n      <td>3.345481</td>\n    </tr>\n    <tr>\n      <th>15</th>\n      <td>(SET/20 RED RETROSPOT PAPER NAPKINS)</td>\n      <td>(SET/6 RED SPOTTY PAPER CUPS)</td>\n      <td>0.132653</td>\n      <td>0.137755</td>\n      <td>0.102041</td>\n      <td>0.769231</td>\n      <td>5.584046</td>\n      <td>0.083767</td>\n      <td>3.736395</td>\n    </tr>\n    <tr>\n      <th>16</th>\n      <td>(SET/6 RED SPOTTY PAPER PLATES)</td>\n      <td>(SET/20 RED RETROSPOT PAPER NAPKINS)</td>\n      <td>0.127551</td>\n      <td>0.132653</td>\n      <td>0.102041</td>\n      <td>0.800000</td>\n      <td>6.030769</td>\n      <td>0.085121</td>\n      <td>4.336735</td>\n    </tr>\n    <tr>\n      <th>17</th>\n      <td>(SET/20 RED RETROSPOT PAPER NAPKINS)</td>\n      <td>(SET/6 RED SPOTTY PAPER PLATES)</td>\n      <td>0.132653</td>\n      <td>0.127551</td>\n      <td>0.102041</td>\n      <td>0.769231</td>\n      <td>6.030769</td>\n      <td>0.085121</td>\n      <td>3.780612</td>\n    </tr>\n    <tr>\n      <th>18</th>\n      <td>(SET/6 RED SPOTTY PAPER CUPS)</td>\n      <td>(SET/6 RED SPOTTY PAPER PLATES)</td>\n      <td>0.137755</td>\n      <td>0.127551</td>\n      <td>0.122449</td>\n      <td>0.888889</td>\n      <td>6.968889</td>\n      <td>0.104878</td>\n      <td>7.852041</td>\n    </tr>\n    <tr>\n      <th>19</th>\n      <td>(SET/6 RED SPOTTY PAPER PLATES)</td>\n      <td>(SET/6 RED SPOTTY PAPER CUPS)</td>\n      <td>0.127551</td>\n      <td>0.137755</td>\n      <td>0.122449</td>\n      <td>0.960000</td>\n      <td>6.968889</td>\n      <td>0.104878</td>\n      <td>21.556122</td>\n    </tr>\n    <tr>\n      <th>20</th>\n      <td>(SET/6 RED SPOTTY PAPER CUPS, SET/6 RED SPOTTY...</td>\n      <td>(SET/20 RED RETROSPOT PAPER NAPKINS)</td>\n      <td>0.122449</td>\n      <td>0.132653</td>\n      <td>0.099490</td>\n      <td>0.812500</td>\n      <td>6.125000</td>\n      <td>0.083247</td>\n      <td>4.625850</td>\n    </tr>\n    <tr>\n      <th>21</th>\n      <td>(SET/6 RED SPOTTY PAPER CUPS, SET/20 RED RETRO...</td>\n      <td>(SET/6 RED SPOTTY PAPER PLATES)</td>\n      <td>0.102041</td>\n      <td>0.127551</td>\n      <td>0.099490</td>\n      <td>0.975000</td>\n      <td>7.644000</td>\n      <td>0.086474</td>\n      <td>34.897959</td>\n    </tr>\n    <tr>\n      <th>22</th>\n      <td>(SET/6 RED SPOTTY PAPER PLATES, SET/20 RED RET...</td>\n      <td>(SET/6 RED SPOTTY PAPER CUPS)</td>\n      <td>0.102041</td>\n      <td>0.137755</td>\n      <td>0.099490</td>\n      <td>0.975000</td>\n      <td>7.077778</td>\n      <td>0.085433</td>\n      <td>34.489796</td>\n    </tr>\n    <tr>\n      <th>23</th>\n      <td>(SET/6 RED SPOTTY PAPER CUPS)</td>\n      <td>(SET/6 RED SPOTTY PAPER PLATES, SET/20 RED RET...</td>\n      <td>0.137755</td>\n      <td>0.102041</td>\n      <td>0.099490</td>\n      <td>0.722222</td>\n      <td>7.077778</td>\n      <td>0.085433</td>\n      <td>3.232653</td>\n    </tr>\n    <tr>\n      <th>24</th>\n      <td>(SET/6 RED SPOTTY PAPER PLATES)</td>\n      <td>(SET/6 RED SPOTTY PAPER CUPS, SET/20 RED RETRO...</td>\n      <td>0.127551</td>\n      <td>0.102041</td>\n      <td>0.099490</td>\n      <td>0.780000</td>\n      <td>7.644000</td>\n      <td>0.086474</td>\n      <td>4.081633</td>\n    </tr>\n    <tr>\n      <th>25</th>\n      <td>(SET/20 RED RETROSPOT PAPER NAPKINS)</td>\n      <td>(SET/6 RED SPOTTY PAPER CUPS, SET/6 RED SPOTTY...</td>\n      <td>0.132653</td>\n      <td>0.122449</td>\n      <td>0.099490</td>\n      <td>0.750000</td>\n      <td>6.125000</td>\n      <td>0.083247</td>\n      <td>3.510204</td>\n    </tr>\n  </tbody>\n</table>\n</div>"
     },
     "metadata": {},
     "execution_count": 23
    }
   ],
   "source": [
    "rules_mlxtend"
   ]
  },
  {
   "cell_type": "code",
   "execution_count": 159,
   "metadata": {},
   "outputs": [
    {
     "data": {
      "text/html": [
       "<div>\n",
       "<style scoped>\n",
       "    .dataframe tbody tr th:only-of-type {\n",
       "        vertical-align: middle;\n",
       "    }\n",
       "\n",
       "    .dataframe tbody tr th {\n",
       "        vertical-align: top;\n",
       "    }\n",
       "\n",
       "    .dataframe thead th {\n",
       "        text-align: right;\n",
       "    }\n",
       "</style>\n",
       "<table border=\"1\" class=\"dataframe\">\n",
       "  <thead>\n",
       "    <tr style=\"text-align: right;\">\n",
       "      <th></th>\n",
       "      <th>antecedents</th>\n",
       "      <th>consequents</th>\n",
       "      <th>antecedent support</th>\n",
       "      <th>consequent support</th>\n",
       "      <th>support</th>\n",
       "      <th>confidence</th>\n",
       "      <th>lift</th>\n",
       "      <th>leverage</th>\n",
       "      <th>conviction</th>\n",
       "    </tr>\n",
       "  </thead>\n",
       "  <tbody>\n",
       "    <tr>\n",
       "      <th>2</th>\n",
       "      <td>(ALARM CLOCK BAKELIKE GREEN)</td>\n",
       "      <td>(ALARM CLOCK BAKELIKE RED)</td>\n",
       "      <td>0.096939</td>\n",
       "      <td>0.094388</td>\n",
       "      <td>0.079082</td>\n",
       "      <td>0.815789</td>\n",
       "      <td>8.642959</td>\n",
       "      <td>0.069932</td>\n",
       "      <td>4.916181</td>\n",
       "    </tr>\n",
       "    <tr>\n",
       "      <th>3</th>\n",
       "      <td>(ALARM CLOCK BAKELIKE RED)</td>\n",
       "      <td>(ALARM CLOCK BAKELIKE GREEN)</td>\n",
       "      <td>0.094388</td>\n",
       "      <td>0.096939</td>\n",
       "      <td>0.079082</td>\n",
       "      <td>0.837838</td>\n",
       "      <td>8.642959</td>\n",
       "      <td>0.069932</td>\n",
       "      <td>5.568878</td>\n",
       "    </tr>\n",
       "    <tr>\n",
       "      <th>17</th>\n",
       "      <td>(SET/6 RED SPOTTY PAPER PLATES)</td>\n",
       "      <td>(SET/20 RED RETROSPOT PAPER NAPKINS)</td>\n",
       "      <td>0.127551</td>\n",
       "      <td>0.132653</td>\n",
       "      <td>0.102041</td>\n",
       "      <td>0.800000</td>\n",
       "      <td>6.030769</td>\n",
       "      <td>0.085121</td>\n",
       "      <td>4.336735</td>\n",
       "    </tr>\n",
       "    <tr>\n",
       "      <th>18</th>\n",
       "      <td>(SET/6 RED SPOTTY PAPER CUPS)</td>\n",
       "      <td>(SET/6 RED SPOTTY PAPER PLATES)</td>\n",
       "      <td>0.137755</td>\n",
       "      <td>0.127551</td>\n",
       "      <td>0.122449</td>\n",
       "      <td>0.888889</td>\n",
       "      <td>6.968889</td>\n",
       "      <td>0.104878</td>\n",
       "      <td>7.852041</td>\n",
       "    </tr>\n",
       "    <tr>\n",
       "      <th>19</th>\n",
       "      <td>(SET/6 RED SPOTTY PAPER PLATES)</td>\n",
       "      <td>(SET/6 RED SPOTTY PAPER CUPS)</td>\n",
       "      <td>0.127551</td>\n",
       "      <td>0.137755</td>\n",
       "      <td>0.122449</td>\n",
       "      <td>0.960000</td>\n",
       "      <td>6.968889</td>\n",
       "      <td>0.104878</td>\n",
       "      <td>21.556122</td>\n",
       "    </tr>\n",
       "    <tr>\n",
       "      <th>20</th>\n",
       "      <td>(SET/20 RED RETROSPOT PAPER NAPKINS, SET/6 RED...</td>\n",
       "      <td>(SET/6 RED SPOTTY PAPER PLATES)</td>\n",
       "      <td>0.102041</td>\n",
       "      <td>0.127551</td>\n",
       "      <td>0.099490</td>\n",
       "      <td>0.975000</td>\n",
       "      <td>7.644000</td>\n",
       "      <td>0.086474</td>\n",
       "      <td>34.897959</td>\n",
       "    </tr>\n",
       "    <tr>\n",
       "      <th>21</th>\n",
       "      <td>(SET/20 RED RETROSPOT PAPER NAPKINS, SET/6 RED...</td>\n",
       "      <td>(SET/6 RED SPOTTY PAPER CUPS)</td>\n",
       "      <td>0.102041</td>\n",
       "      <td>0.137755</td>\n",
       "      <td>0.099490</td>\n",
       "      <td>0.975000</td>\n",
       "      <td>7.077778</td>\n",
       "      <td>0.085433</td>\n",
       "      <td>34.489796</td>\n",
       "    </tr>\n",
       "    <tr>\n",
       "      <th>22</th>\n",
       "      <td>(SET/6 RED SPOTTY PAPER CUPS, SET/6 RED SPOTTY...</td>\n",
       "      <td>(SET/20 RED RETROSPOT PAPER NAPKINS)</td>\n",
       "      <td>0.122449</td>\n",
       "      <td>0.132653</td>\n",
       "      <td>0.099490</td>\n",
       "      <td>0.812500</td>\n",
       "      <td>6.125000</td>\n",
       "      <td>0.083247</td>\n",
       "      <td>4.625850</td>\n",
       "    </tr>\n",
       "  </tbody>\n",
       "</table>\n",
       "</div>"
      ],
      "text/plain": [
       "                                          antecedents  \\\n",
       "2                        (ALARM CLOCK BAKELIKE GREEN)   \n",
       "3                          (ALARM CLOCK BAKELIKE RED)   \n",
       "17                    (SET/6 RED SPOTTY PAPER PLATES)   \n",
       "18                      (SET/6 RED SPOTTY PAPER CUPS)   \n",
       "19                    (SET/6 RED SPOTTY PAPER PLATES)   \n",
       "20  (SET/20 RED RETROSPOT PAPER NAPKINS, SET/6 RED...   \n",
       "21  (SET/20 RED RETROSPOT PAPER NAPKINS, SET/6 RED...   \n",
       "22  (SET/6 RED SPOTTY PAPER CUPS, SET/6 RED SPOTTY...   \n",
       "\n",
       "                             consequents  antecedent support  \\\n",
       "2             (ALARM CLOCK BAKELIKE RED)            0.096939   \n",
       "3           (ALARM CLOCK BAKELIKE GREEN)            0.094388   \n",
       "17  (SET/20 RED RETROSPOT PAPER NAPKINS)            0.127551   \n",
       "18       (SET/6 RED SPOTTY PAPER PLATES)            0.137755   \n",
       "19         (SET/6 RED SPOTTY PAPER CUPS)            0.127551   \n",
       "20       (SET/6 RED SPOTTY PAPER PLATES)            0.102041   \n",
       "21         (SET/6 RED SPOTTY PAPER CUPS)            0.102041   \n",
       "22  (SET/20 RED RETROSPOT PAPER NAPKINS)            0.122449   \n",
       "\n",
       "    consequent support   support  confidence      lift  leverage  conviction  \n",
       "2             0.094388  0.079082    0.815789  8.642959  0.069932    4.916181  \n",
       "3             0.096939  0.079082    0.837838  8.642959  0.069932    5.568878  \n",
       "17            0.132653  0.102041    0.800000  6.030769  0.085121    4.336735  \n",
       "18            0.127551  0.122449    0.888889  6.968889  0.104878    7.852041  \n",
       "19            0.137755  0.122449    0.960000  6.968889  0.104878   21.556122  \n",
       "20            0.127551  0.099490    0.975000  7.644000  0.086474   34.897959  \n",
       "21            0.137755  0.099490    0.975000  7.077778  0.085433   34.489796  \n",
       "22            0.132653  0.099490    0.812500  6.125000  0.083247    4.625850  "
      ]
     },
     "execution_count": 159,
     "metadata": {},
     "output_type": "execute_result"
    }
   ],
   "source": [
    "rules_mlxtend[ (rules_mlxtend['lift'] >= 6) &\n",
    "       (rules_mlxtend['confidence'] >= 0.8) ]"
   ]
  },
  {
   "cell_type": "code",
   "execution_count": 24,
   "metadata": {},
   "outputs": [
    {
     "output_type": "execute_result",
     "data": {
      "text/plain": "340.0"
     },
     "metadata": {},
     "execution_count": 24
    }
   ],
   "source": [
    "\n",
    "basket['ALARM CLOCK BAKELIKE GREEN'].sum()\n"
   ]
  },
  {
   "cell_type": "code",
   "execution_count": 25,
   "metadata": {},
   "outputs": [
    {
     "output_type": "execute_result",
     "data": {
      "text/plain": "316.0"
     },
     "metadata": {},
     "execution_count": 25
    }
   ],
   "source": [
    "basket['ALARM CLOCK BAKELIKE RED'].sum()"
   ]
  },
  {
   "cell_type": "code",
   "execution_count": 26,
   "metadata": {},
   "outputs": [
    {
     "output_type": "execute_result",
     "data": {
      "text/plain": "  InvoiceNo StockCode                          Description  Quantity  \\\n0    536365    85123A   WHITE HANGING HEART T-LIGHT HOLDER         6   \n1    536365     71053                  WHITE METAL LANTERN         6   \n2    536365    84406B       CREAM CUPID HEARTS COAT HANGER         8   \n3    536365    84029G  KNITTED UNION FLAG HOT WATER BOTTLE         6   \n4    536365    84029E       RED WOOLLY HOTTIE WHITE HEART.         6   \n\n      InvoiceDate  UnitPrice  CustomerID         Country  \n0  12/1/2010 8:26       2.55     17850.0  United Kingdom  \n1  12/1/2010 8:26       3.39     17850.0  United Kingdom  \n2  12/1/2010 8:26       2.75     17850.0  United Kingdom  \n3  12/1/2010 8:26       3.39     17850.0  United Kingdom  \n4  12/1/2010 8:26       3.39     17850.0  United Kingdom  ",
      "text/html": "<div>\n<style scoped>\n    .dataframe tbody tr th:only-of-type {\n        vertical-align: middle;\n    }\n\n    .dataframe tbody tr th {\n        vertical-align: top;\n    }\n\n    .dataframe thead th {\n        text-align: right;\n    }\n</style>\n<table border=\"1\" class=\"dataframe\">\n  <thead>\n    <tr style=\"text-align: right;\">\n      <th></th>\n      <th>InvoiceNo</th>\n      <th>StockCode</th>\n      <th>Description</th>\n      <th>Quantity</th>\n      <th>InvoiceDate</th>\n      <th>UnitPrice</th>\n      <th>CustomerID</th>\n      <th>Country</th>\n    </tr>\n  </thead>\n  <tbody>\n    <tr>\n      <th>0</th>\n      <td>536365</td>\n      <td>85123A</td>\n      <td>WHITE HANGING HEART T-LIGHT HOLDER</td>\n      <td>6</td>\n      <td>12/1/2010 8:26</td>\n      <td>2.55</td>\n      <td>17850.0</td>\n      <td>United Kingdom</td>\n    </tr>\n    <tr>\n      <th>1</th>\n      <td>536365</td>\n      <td>71053</td>\n      <td>WHITE METAL LANTERN</td>\n      <td>6</td>\n      <td>12/1/2010 8:26</td>\n      <td>3.39</td>\n      <td>17850.0</td>\n      <td>United Kingdom</td>\n    </tr>\n    <tr>\n      <th>2</th>\n      <td>536365</td>\n      <td>84406B</td>\n      <td>CREAM CUPID HEARTS COAT HANGER</td>\n      <td>8</td>\n      <td>12/1/2010 8:26</td>\n      <td>2.75</td>\n      <td>17850.0</td>\n      <td>United Kingdom</td>\n    </tr>\n    <tr>\n      <th>3</th>\n      <td>536365</td>\n      <td>84029G</td>\n      <td>KNITTED UNION FLAG HOT WATER BOTTLE</td>\n      <td>6</td>\n      <td>12/1/2010 8:26</td>\n      <td>3.39</td>\n      <td>17850.0</td>\n      <td>United Kingdom</td>\n    </tr>\n    <tr>\n      <th>4</th>\n      <td>536365</td>\n      <td>84029E</td>\n      <td>RED WOOLLY HOTTIE WHITE HEART.</td>\n      <td>6</td>\n      <td>12/1/2010 8:26</td>\n      <td>3.39</td>\n      <td>17850.0</td>\n      <td>United Kingdom</td>\n    </tr>\n  </tbody>\n</table>\n</div>"
     },
     "metadata": {},
     "execution_count": 26
    }
   ],
   "source": [
    "df2 = pd.read_csv('C:\\\\Users\\\\ravs\\\\Development\\\\ML\\\\IIM\\\\L4\\\\data.csv', encoding=\"ISO-8859-1\")\n",
    "df2.head()\n",
    "\n"
   ]
  },
  {
   "cell_type": "code",
   "execution_count": 27,
   "metadata": {},
   "outputs": [],
   "source": [
    "df2 = df2[df2.Country == 'Germany']"
   ]
  },
  {
   "cell_type": "code",
   "execution_count": 28,
   "metadata": {},
   "outputs": [],
   "source": [
    "df2['Description'] = df2['Description'].str.strip()\n",
    "\n"
   ]
  },
  {
   "cell_type": "code",
   "execution_count": 29,
   "metadata": {},
   "outputs": [],
   "source": [
    "df2.dropna(axis=0, subset=['InvoiceNo'], inplace=True)\n",
    "df2['InvoiceNo'] = df2['InvoiceNo'].astype('str')\n",
    "df2 = df2[~df2['InvoiceNo'].str.contains('C')]"
   ]
  },
  {
   "cell_type": "code",
   "execution_count": 30,
   "metadata": {},
   "outputs": [],
   "source": [
    "df2 = df2[df2.Quantity >0]"
   ]
  },
  {
   "cell_type": "code",
   "execution_count": 31,
   "metadata": {},
   "outputs": [],
   "source": [
    "basket2 = (df2[df2['Country'] ==\"Germany\"]\n",
    "          .groupby(['InvoiceNo', 'Description'])['Quantity']\n",
    "          .sum().unstack().reset_index().fillna(0)\n",
    "          .set_index('InvoiceNo'))"
   ]
  },
  {
   "cell_type": "code",
   "execution_count": 32,
   "metadata": {},
   "outputs": [],
   "source": [
    "basket2_sets = basket2.applymap(convert_into_binary)"
   ]
  },
  {
   "cell_type": "code",
   "execution_count": 33,
   "metadata": {},
   "outputs": [],
   "source": [
    "basket2_sets.drop(columns=['POSTAGE'],inplace=True)"
   ]
  },
  {
   "cell_type": "code",
   "execution_count": 35,
   "metadata": {},
   "outputs": [],
   "source": [
    "frequent_itemsets2 = apriori(basket2_sets, min_support=0.05, use_colnames=True)\n"
   ]
  },
  {
   "cell_type": "code",
   "execution_count": 36,
   "metadata": {},
   "outputs": [],
   "source": [
    "rules2 = association_rules(frequent_itemsets2, metric=\"lift\", min_threshold=1)\n",
    "\n"
   ]
  },
  {
   "cell_type": "code",
   "execution_count": 37,
   "metadata": {},
   "outputs": [
    {
     "output_type": "execute_result",
     "data": {
      "text/plain": "                        antecedents                         consequents  \\\n1   (PLASTERS IN TIN CIRCUS PARADE)  (PLASTERS IN TIN WOODLAND ANIMALS)   \n6        (PLASTERS IN TIN SPACEBOY)  (PLASTERS IN TIN WOODLAND ANIMALS)   \n10    (RED RETROSPOT CHARLOTTE BAG)            (WOODLAND CHARLOTTE BAG)   \n\n    antecedent support  consequent support   support  confidence      lift  \\\n1             0.115974            0.137856  0.067834    0.584906  4.242887   \n6             0.107221            0.137856  0.061269    0.571429  4.145125   \n10            0.070022            0.126915  0.059081    0.843750  6.648168   \n\n    leverage  conviction  \n1   0.051846    2.076984  \n6   0.046488    2.011670  \n10  0.050194    5.587746  ",
      "text/html": "<div>\n<style scoped>\n    .dataframe tbody tr th:only-of-type {\n        vertical-align: middle;\n    }\n\n    .dataframe tbody tr th {\n        vertical-align: top;\n    }\n\n    .dataframe thead th {\n        text-align: right;\n    }\n</style>\n<table border=\"1\" class=\"dataframe\">\n  <thead>\n    <tr style=\"text-align: right;\">\n      <th></th>\n      <th>antecedents</th>\n      <th>consequents</th>\n      <th>antecedent support</th>\n      <th>consequent support</th>\n      <th>support</th>\n      <th>confidence</th>\n      <th>lift</th>\n      <th>leverage</th>\n      <th>conviction</th>\n    </tr>\n  </thead>\n  <tbody>\n    <tr>\n      <th>1</th>\n      <td>(PLASTERS IN TIN CIRCUS PARADE)</td>\n      <td>(PLASTERS IN TIN WOODLAND ANIMALS)</td>\n      <td>0.115974</td>\n      <td>0.137856</td>\n      <td>0.067834</td>\n      <td>0.584906</td>\n      <td>4.242887</td>\n      <td>0.051846</td>\n      <td>2.076984</td>\n    </tr>\n    <tr>\n      <th>6</th>\n      <td>(PLASTERS IN TIN SPACEBOY)</td>\n      <td>(PLASTERS IN TIN WOODLAND ANIMALS)</td>\n      <td>0.107221</td>\n      <td>0.137856</td>\n      <td>0.061269</td>\n      <td>0.571429</td>\n      <td>4.145125</td>\n      <td>0.046488</td>\n      <td>2.011670</td>\n    </tr>\n    <tr>\n      <th>10</th>\n      <td>(RED RETROSPOT CHARLOTTE BAG)</td>\n      <td>(WOODLAND CHARLOTTE BAG)</td>\n      <td>0.070022</td>\n      <td>0.126915</td>\n      <td>0.059081</td>\n      <td>0.843750</td>\n      <td>6.648168</td>\n      <td>0.050194</td>\n      <td>5.587746</td>\n    </tr>\n  </tbody>\n</table>\n</div>"
     },
     "metadata": {},
     "execution_count": 37
    }
   ],
   "source": [
    "rules2[ (rules2['lift'] >= 4) &\n",
    "        (rules2['confidence'] >= 0.5)]"
   ]
  },
  {
   "cell_type": "code",
   "execution_count": null,
   "metadata": {},
   "outputs": [],
   "source": []
  }
 ],
 "metadata": {
  "kernelspec": {
   "display_name": "Python 3",
   "language": "python",
   "name": "python3"
  },
  "language_info": {
   "codemirror_mode": {
    "name": "ipython",
    "version": 3
   },
   "file_extension": ".py",
   "mimetype": "text/x-python",
   "name": "python",
   "nbconvert_exporter": "python",
   "pygments_lexer": "ipython3",
   "version": "3.8.2-final"
  }
 },
 "nbformat": 4,
 "nbformat_minor": 2
}