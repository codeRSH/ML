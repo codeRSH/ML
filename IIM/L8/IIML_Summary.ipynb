{
 "cells": [
  {
   "cell_type": "code",
   "execution_count": 1,
   "metadata": {
    "tags": []
   },
   "outputs": [
    {
     "output_type": "stream",
     "name": "stdout",
     "text": "Collecting wikipedia\n  Downloading wikipedia-1.4.0.tar.gz (27 kB)\nRequirement already satisfied: beautifulsoup4 in c:\\users\\ravs\\miniconda3\\envs\\my_env\\lib\\site-packages (from wikipedia) (4.9.1)\nRequirement already satisfied: requests<3.0.0,>=2.0.0 in c:\\users\\ravs\\miniconda3\\envs\\my_env\\lib\\site-packages (from wikipedia) (2.24.0)\nRequirement already satisfied: soupsieve>1.2 in c:\\users\\ravs\\miniconda3\\envs\\my_env\\lib\\site-packages (from beautifulsoup4->wikipedia) (2.0.1)\nRequirement already satisfied: certifi>=2017.4.17 in c:\\users\\ravs\\miniconda3\\envs\\my_env\\lib\\site-packages (from requests<3.0.0,>=2.0.0->wikipedia) (2020.6.20)\nRequirement already satisfied: idna<3,>=2.5 in c:\\users\\ravs\\miniconda3\\envs\\my_env\\lib\\site-packages (from requests<3.0.0,>=2.0.0->wikipedia) (2.10)\nRequirement already satisfied: chardet<4,>=3.0.2 in c:\\users\\ravs\\miniconda3\\envs\\my_env\\lib\\site-packages (from requests<3.0.0,>=2.0.0->wikipedia) (3.0.4)\nRequirement already satisfied: urllib3!=1.25.0,!=1.25.1,<1.26,>=1.21.1 in c:\\users\\ravs\\miniconda3\\envs\\my_env\\lib\\site-packages (from requests<3.0.0,>=2.0.0->wikipedia) (1.25.9)\nBuilding wheels for collected packages: wikipedia\n  Building wheel for wikipedia (setup.py): started\n  Building wheel for wikipedia (setup.py): finished with status 'done'\n  Created wheel for wikipedia: filename=wikipedia-1.4.0-py3-none-any.whl size=11689 sha256=60d433509654b4db73caf19b92230e9f71e81568ae2d7646a3acb6a8b39eefe9\n  Stored in directory: c:\\users\\ravs\\appdata\\local\\pip\\cache\\wheels\\07\\93\\05\\72c05349177dca2e0ba31a33ba4f7907606f7ddef303517c6a\nSuccessfully built wikipedia\nInstalling collected packages: wikipedia\nSuccessfully installed wikipedia-1.4.0\n"
    }
   ],
   "source": [
    "!pip install wikipedia"
   ]
  },
  {
   "cell_type": "code",
   "execution_count": 3,
   "metadata": {
    "tags": []
   },
   "outputs": [
    {
     "output_type": "stream",
     "name": "stdout",
     "text": "Collecting gensim\n  Downloading gensim-3.8.3-cp38-cp38-win_amd64.whl (24.2 MB)\nRequirement already satisfied: six>=1.5.0 in c:\\users\\ravs\\miniconda3\\envs\\my_env\\lib\\site-packages (from gensim) (1.15.0)\nRequirement already satisfied: numpy>=1.11.3 in c:\\users\\ravs\\miniconda3\\envs\\my_env\\lib\\site-packages (from gensim) (1.18.5)\nCollecting smart-open>=1.8.1\n  Downloading smart_open-2.1.1.tar.gz (111 kB)\nRequirement already satisfied: scipy>=0.18.1 in c:\\users\\ravs\\miniconda3\\envs\\my_env\\lib\\site-packages (from gensim) (1.5.0)\nCollecting Cython==0.29.14\n  Downloading Cython-0.29.14-cp38-cp38-win_amd64.whl (1.7 MB)\nRequirement already satisfied: requests in c:\\users\\ravs\\miniconda3\\envs\\my_env\\lib\\site-packages (from smart-open>=1.8.1->gensim) (2.24.0)\nRequirement already satisfied: boto in c:\\users\\ravs\\miniconda3\\envs\\my_env\\lib\\site-packages (from smart-open>=1.8.1->gensim) (2.49.0)\nCollecting boto3\n  Downloading boto3-1.14.56-py2.py3-none-any.whl (129 kB)\nRequirement already satisfied: certifi>=2017.4.17 in c:\\users\\ravs\\miniconda3\\envs\\my_env\\lib\\site-packages (from requests->smart-open>=1.8.1->gensim) (2020.6.20)\nRequirement already satisfied: chardet<4,>=3.0.2 in c:\\users\\ravs\\miniconda3\\envs\\my_env\\lib\\site-packages (from requests->smart-open>=1.8.1->gensim) (3.0.4)\nRequirement already satisfied: idna<3,>=2.5 in c:\\users\\ravs\\miniconda3\\envs\\my_env\\lib\\site-packages (from requests->smart-open>=1.8.1->gensim) (2.10)\nRequirement already satisfied: urllib3!=1.25.0,!=1.25.1,<1.26,>=1.21.1 in c:\\users\\ravs\\miniconda3\\envs\\my_env\\lib\\site-packages (from requests->smart-open>=1.8.1->gensim) (1.25.9)\nCollecting botocore<1.18.0,>=1.17.56\n  Downloading botocore-1.17.56-py2.py3-none-any.whl (6.6 MB)\nCollecting s3transfer<0.4.0,>=0.3.0\n  Downloading s3transfer-0.3.3-py2.py3-none-any.whl (69 kB)\nCollecting jmespath<1.0.0,>=0.7.1\n  Downloading jmespath-0.10.0-py2.py3-none-any.whl (24 kB)\nRequirement already satisfied: python-dateutil<3.0.0,>=2.1 in c:\\users\\ravs\\miniconda3\\envs\\my_env\\lib\\site-packages (from botocore<1.18.0,>=1.17.56->boto3->smart-open>=1.8.1->gensim) (2.8.1)\nCollecting docutils<0.16,>=0.10\n  Downloading docutils-0.15.2-py3-none-any.whl (547 kB)\nBuilding wheels for collected packages: smart-open\n  Building wheel for smart-open (setup.py): started\n  Building wheel for smart-open (setup.py): finished with status 'done'\n  Created wheel for smart-open: filename=smart_open-2.1.1-py3-none-any.whl size=112418 sha256=e5224754588555ed26daf262fd9061a3e56a48bb28c92b136242d1aea01dd61c\n  Stored in directory: c:\\users\\ravs\\appdata\\local\\pip\\cache\\wheels\\75\\81\\f7\\25ad503e6a6a4bd757502b7b8329da19f9ecdbba5965de36c8\nSuccessfully built smart-open\nInstalling collected packages: jmespath, docutils, botocore, s3transfer, boto3, smart-open, Cython, gensim\n  Attempting uninstall: docutils\n    Found existing installation: docutils 0.16\n    Uninstalling docutils-0.16:\n      Successfully uninstalled docutils-0.16\n  Attempting uninstall: Cython\n    Found existing installation: Cython 0.29.21\n    Uninstalling Cython-0.29.21:\n      Successfully uninstalled Cython-0.29.21\nSuccessfully installed Cython-0.29.14 boto3-1.14.56 botocore-1.17.56 docutils-0.15.2 gensim-3.8.3 jmespath-0.10.0 s3transfer-0.3.3 smart-open-2.1.1\n"
    }
   ],
   "source": [
    "!pip install gensim"
   ]
  },
  {
   "cell_type": "code",
   "execution_count": 5,
   "metadata": {
    "tags": []
   },
   "outputs": [
    {
     "output_type": "stream",
     "name": "stdout",
     "text": "Collecting https://github.com/explosion/spacy-models/releases/download/en_core_web_sm-2.1.0/en_core_web_sm-2.1.0.tar.gz\n  Downloading https://github.com/explosion/spacy-models/releases/download/en_core_web_sm-2.1.0/en_core_web_sm-2.1.0.tar.gz (11.1 MB)\nCollecting spacy>=2.1.0\n  Downloading spacy-2.3.2-cp38-cp38-win_amd64.whl (9.5 MB)\nCollecting cymem<2.1.0,>=2.0.2\n  Downloading cymem-2.0.3-cp38-cp38-win_amd64.whl (33 kB)\nCollecting thinc==7.4.1\n  Downloading thinc-7.4.1-cp38-cp38-win_amd64.whl (2.1 MB)\nRequirement already satisfied: setuptools in c:\\users\\ravs\\miniconda3\\envs\\my_env\\lib\\site-packages (from spacy>=2.1.0->en-core-web-sm==2.1.0) (49.2.0.post20200714)\nCollecting srsly<1.1.0,>=1.0.2\n  Downloading srsly-1.0.2-cp38-cp38-win_amd64.whl (181 kB)\nRequirement already satisfied: requests<3.0.0,>=2.13.0 in c:\\users\\ravs\\miniconda3\\envs\\my_env\\lib\\site-packages (from spacy>=2.1.0->en-core-web-sm==2.1.0) (2.24.0)\nCollecting blis<0.5.0,>=0.4.0\n  Downloading blis-0.4.1-cp38-cp38-win_amd64.whl (5.0 MB)\nCollecting preshed<3.1.0,>=3.0.2\n  Downloading preshed-3.0.2-cp38-cp38-win_amd64.whl (115 kB)\nCollecting catalogue<1.1.0,>=0.0.7\n  Downloading catalogue-1.0.0-py2.py3-none-any.whl (7.7 kB)\nCollecting murmurhash<1.1.0,>=0.28.0\n  Downloading murmurhash-1.0.2-cp38-cp38-win_amd64.whl (20 kB)\nRequirement already satisfied: tqdm<5.0.0,>=4.38.0 in c:\\users\\ravs\\miniconda3\\envs\\my_env\\lib\\site-packages (from spacy>=2.1.0->en-core-web-sm==2.1.0) (4.47.0)\nCollecting wasabi<1.1.0,>=0.4.0\n  Downloading wasabi-0.8.0-py3-none-any.whl (23 kB)\nCollecting plac<1.2.0,>=0.9.6\n  Downloading plac-1.1.3-py2.py3-none-any.whl (20 kB)\nRequirement already satisfied: numpy>=1.15.0 in c:\\users\\ravs\\miniconda3\\envs\\my_env\\lib\\site-packages (from spacy>=2.1.0->en-core-web-sm==2.1.0) (1.18.5)\nRequirement already satisfied: certifi>=2017.4.17 in c:\\users\\ravs\\miniconda3\\envs\\my_env\\lib\\site-packages (from requests<3.0.0,>=2.13.0->spacy>=2.1.0->en-core-web-sm==2.1.0) (2020.6.20)\nRequirement already satisfied: idna<3,>=2.5 in c:\\users\\ravs\\miniconda3\\envs\\my_env\\lib\\site-packages (from requests<3.0.0,>=2.13.0->spacy>=2.1.0->en-core-web-sm==2.1.0) (2.10)\nRequirement already satisfied: urllib3!=1.25.0,!=1.25.1,<1.26,>=1.21.1 in c:\\users\\ravs\\miniconda3\\envs\\my_env\\lib\\site-packages (from requests<3.0.0,>=2.13.0->spacy>=2.1.0->en-core-web-sm==2.1.0) (1.25.9)\nRequirement already satisfied: chardet<4,>=3.0.2 in c:\\users\\ravs\\miniconda3\\envs\\my_env\\lib\\site-packages (from requests<3.0.0,>=2.13.0->spacy>=2.1.0->en-core-web-sm==2.1.0) (3.0.4)\nBuilding wheels for collected packages: en-core-web-sm\n  Building wheel for en-core-web-sm (setup.py): started\n  Building wheel for en-core-web-sm (setup.py): finished with status 'done'\n  Created wheel for en-core-web-sm: filename=en_core_web_sm-2.1.0-py3-none-any.whl size=11074438 sha256=4c1c0570e9a7ef90180ceeb3eb80219a583eb3ad5d81d4cf216bb6676eff234b\n  Stored in directory: c:\\users\\ravs\\appdata\\local\\pip\\cache\\wheels\\83\\63\\50\\6467284e1c2d50ffcf02e6582680fd16c6375748a94f75c1a0\nSuccessfully built en-core-web-sm\nInstalling collected packages: cymem, wasabi, blis, catalogue, srsly, murmurhash, plac, preshed, thinc, spacy, en-core-web-sm\nSuccessfully installed blis-0.4.1 catalogue-1.0.0 cymem-2.0.3 en-core-web-sm-2.1.0 murmurhash-1.0.2 plac-1.1.3 preshed-3.0.2 spacy-2.3.2 srsly-1.0.2 thinc-7.4.1 wasabi-0.8.0\n"
    }
   ],
   "source": [
    "!pip install https://github.com/explosion/spacy-models/releases/download/en_core_web_sm-2.1.0/en_core_web_sm-2.1.0.tar.gz"
   ]
  },
  {
   "cell_type": "code",
   "execution_count": 1,
   "metadata": {},
   "outputs": [],
   "source": [
    "from gensim.summarization.summarizer import summarize \n",
    "from gensim.summarization import keywords \n",
    "import wikipedia \n",
    "import spacy\n"
   ]
  },
  {
   "cell_type": "code",
   "execution_count": 3,
   "metadata": {},
   "outputs": [
    {
     "output_type": "error",
     "ename": "ValueError",
     "evalue": "[E167] Unknown morphological feature: 'ConjType' (9141427322507498425). This can happen if the tagger was trained with a different set of morphological features. If you're using a pretrained model, make sure that your models are up to date:\npython -m spacy validate",
     "traceback": [
      "\u001b[1;31m---------------------------------------------------------------------------\u001b[0m",
      "\u001b[1;31mValueError\u001b[0m                                Traceback (most recent call last)",
      "\u001b[1;32m<ipython-input-3-12c9bec2587f>\u001b[0m in \u001b[0;36m<module>\u001b[1;34m\u001b[0m\n\u001b[0;32m      3\u001b[0m \u001b[0mwikicontent\u001b[0m \u001b[1;33m=\u001b[0m \u001b[0mwikisearch\u001b[0m\u001b[1;33m.\u001b[0m\u001b[0mcontent\u001b[0m\u001b[1;33m\u001b[0m\u001b[1;33m\u001b[0m\u001b[0m\n\u001b[0;32m      4\u001b[0m \u001b[0mnlp\u001b[0m \u001b[1;33m=\u001b[0m \u001b[0mspacy\u001b[0m\u001b[1;33m.\u001b[0m\u001b[0mload\u001b[0m\u001b[1;33m(\u001b[0m\u001b[1;34m'en_core_web_sm'\u001b[0m\u001b[1;33m)\u001b[0m\u001b[1;33m\u001b[0m\u001b[1;33m\u001b[0m\u001b[0m\n\u001b[1;32m----> 5\u001b[1;33m \u001b[0mdoc\u001b[0m \u001b[1;33m=\u001b[0m \u001b[0mnlp\u001b[0m\u001b[1;33m(\u001b[0m\u001b[0mwikicontent\u001b[0m\u001b[1;33m)\u001b[0m\u001b[1;33m\u001b[0m\u001b[1;33m\u001b[0m\u001b[0m\n\u001b[0m\u001b[0;32m      6\u001b[0m \u001b[0mprint\u001b[0m\u001b[1;33m(\u001b[0m\u001b[0mdoc\u001b[0m\u001b[1;33m)\u001b[0m\u001b[1;33m\u001b[0m\u001b[1;33m\u001b[0m\u001b[0m\n\u001b[0;32m      7\u001b[0m \u001b[1;33m\u001b[0m\u001b[0m\n",
      "\u001b[1;32m~\\miniconda3\\envs\\my_env\\lib\\site-packages\\spacy\\language.py\u001b[0m in \u001b[0;36m__call__\u001b[1;34m(self, text, disable, component_cfg)\u001b[0m\n\u001b[0;32m    447\u001b[0m             \u001b[1;32mif\u001b[0m \u001b[1;32mnot\u001b[0m \u001b[0mhasattr\u001b[0m\u001b[1;33m(\u001b[0m\u001b[0mproc\u001b[0m\u001b[1;33m,\u001b[0m \u001b[1;34m\"__call__\"\u001b[0m\u001b[1;33m)\u001b[0m\u001b[1;33m:\u001b[0m\u001b[1;33m\u001b[0m\u001b[1;33m\u001b[0m\u001b[0m\n\u001b[0;32m    448\u001b[0m                 \u001b[1;32mraise\u001b[0m \u001b[0mValueError\u001b[0m\u001b[1;33m(\u001b[0m\u001b[0mErrors\u001b[0m\u001b[1;33m.\u001b[0m\u001b[0mE003\u001b[0m\u001b[1;33m.\u001b[0m\u001b[0mformat\u001b[0m\u001b[1;33m(\u001b[0m\u001b[0mcomponent\u001b[0m\u001b[1;33m=\u001b[0m\u001b[0mtype\u001b[0m\u001b[1;33m(\u001b[0m\u001b[0mproc\u001b[0m\u001b[1;33m)\u001b[0m\u001b[1;33m,\u001b[0m \u001b[0mname\u001b[0m\u001b[1;33m=\u001b[0m\u001b[0mname\u001b[0m\u001b[1;33m)\u001b[0m\u001b[1;33m)\u001b[0m\u001b[1;33m\u001b[0m\u001b[1;33m\u001b[0m\u001b[0m\n\u001b[1;32m--> 449\u001b[1;33m             \u001b[0mdoc\u001b[0m \u001b[1;33m=\u001b[0m \u001b[0mproc\u001b[0m\u001b[1;33m(\u001b[0m\u001b[0mdoc\u001b[0m\u001b[1;33m,\u001b[0m \u001b[1;33m**\u001b[0m\u001b[0mcomponent_cfg\u001b[0m\u001b[1;33m.\u001b[0m\u001b[0mget\u001b[0m\u001b[1;33m(\u001b[0m\u001b[0mname\u001b[0m\u001b[1;33m,\u001b[0m \u001b[1;33m{\u001b[0m\u001b[1;33m}\u001b[0m\u001b[1;33m)\u001b[0m\u001b[1;33m)\u001b[0m\u001b[1;33m\u001b[0m\u001b[1;33m\u001b[0m\u001b[0m\n\u001b[0m\u001b[0;32m    450\u001b[0m             \u001b[1;32mif\u001b[0m \u001b[0mdoc\u001b[0m \u001b[1;32mis\u001b[0m \u001b[1;32mNone\u001b[0m\u001b[1;33m:\u001b[0m\u001b[1;33m\u001b[0m\u001b[1;33m\u001b[0m\u001b[0m\n\u001b[0;32m    451\u001b[0m                 \u001b[1;32mraise\u001b[0m \u001b[0mValueError\u001b[0m\u001b[1;33m(\u001b[0m\u001b[0mErrors\u001b[0m\u001b[1;33m.\u001b[0m\u001b[0mE005\u001b[0m\u001b[1;33m.\u001b[0m\u001b[0mformat\u001b[0m\u001b[1;33m(\u001b[0m\u001b[0mname\u001b[0m\u001b[1;33m=\u001b[0m\u001b[0mname\u001b[0m\u001b[1;33m)\u001b[0m\u001b[1;33m)\u001b[0m\u001b[1;33m\u001b[0m\u001b[1;33m\u001b[0m\u001b[0m\n",
      "\u001b[1;32mpipes.pyx\u001b[0m in \u001b[0;36mspacy.pipeline.pipes.Tagger.__call__\u001b[1;34m()\u001b[0m\n",
      "\u001b[1;32mpipes.pyx\u001b[0m in \u001b[0;36mspacy.pipeline.pipes.Tagger.set_annotations\u001b[1;34m()\u001b[0m\n",
      "\u001b[1;32mmorphology.pyx\u001b[0m in \u001b[0;36mspacy.morphology.Morphology.assign_tag_id\u001b[1;34m()\u001b[0m\n",
      "\u001b[1;32mmorphology.pyx\u001b[0m in \u001b[0;36mspacy.morphology.Morphology.add\u001b[1;34m()\u001b[0m\n",
      "\u001b[1;31mValueError\u001b[0m: [E167] Unknown morphological feature: 'ConjType' (9141427322507498425). This can happen if the tagger was trained with a different set of morphological features. If you're using a pretrained model, make sure that your models are up to date:\npython -m spacy validate"
     ]
    }
   ],
   "source": [
    "# Get wiki content. \n",
    "wikisearch = wikipedia.page(\"Indian Institute of Management Ahmedabad\") \n",
    "wikicontent = wikisearch.content \n",
    "nlp = spacy.load('en_core_web_sm')\n",
    "doc = nlp(wikicontent) \n",
    "print(doc)\n",
    "  \n"
   ]
  },
  {
   "cell_type": "code",
   "execution_count": 4,
   "metadata": {},
   "outputs": [
    {
     "name": "stdout",
     "output_type": "stream",
     "text": [
      "Percent summary\n",
      "Indian Institute of Management Lucknow (abbreviated IIM Lucknow or IIM-L) is a public business school in Lucknow, Uttar Pradesh, India.\n",
      "It was established in 1984 as the fourth Indian Institute of Management (IIM) by the Government of India.\n",
      "IIM Lucknow offers post-graduate diploma, fellowship and executive programs in management.\n",
      "It is recognised as an \"Institution of Excellence\" by India's Ministry of Human Resource Development.\n",
      "IIM Lucknow also serves as the mentor institution for the newly established IIM Jammu, IIM Rohtak and IIM Kashipur.\n",
      "It also served as a mentor institute to IIM Sirmaur till 2018.The institute is on a 200-acre site in the northern outskirts of Lucknow.\n",
      "It also has a second campus on a 20-acre site at Noida exclusively for one year full-time MBA program (IPMX), Two-year PGP for working executive and executive education.\n",
      "The admission for the two-year PGP and fellowship programmes is done through Common Admission Test (CAT), while GMAT score is used for International Programme in Management for Executives, a one-year full-time residential programme equivalent to an MBA program, while admission to the Two-year PGP for working executive program is done based on GMAT score or a competitive written examination conducted by IIM Lucknow.\n",
      "The shortlisted candidates based on GMAT or the written examination go through the Writing Ability Test and Personal Interview (WAT & PI) to get final selection.\n",
      "The institute has tie-ups with 24 leading B-schools across the world for student exchange.\n",
      "A number of b-competitions, cultural and sports events are organised by various clubs, academic interest groups and committees throughout the year.\n",
      "IIM Lucknow was established in 1984 and is currently a centrally funded institution.\n",
      "It is the fourth Indian Institute of Management to be established in India (after IIM Calcutta, IIM Ahmedabad, and IIM Bangalore).\n",
      "Noted academician Ishwar Dayal played a significant role in setting up the institution; he served as the founding director of IIM Lucknow for four years.\n",
      "Industrialist Hari Shankar Singhania, who took over as the chairman of Board of Governors in 1992, served until 2007.The Post Graduate Programme (PGP) was started in 1985–86 with 30 students.\n",
      "The current campus was built in 1992 in the outskirts of Lucknow.Links were made with three foreign universities in 2001 to start the student exchange program.\n",
      "The Agribusiness Course was started in 2004 with 13 students.In 2005, IIM Lucknow established a second campus at Noida near Delhi.\n",
      "The Noida campus was established exclusively for executive education.\n",
      "IIM Lucknow is the first IIM in the country to start an additional campus.\n",
      "IIM Lucknow main campus spans 200 acres (81 ha) and is in Prabandh Nagar on the outskirts of Lucknow, Uttar Pradesh, India.\n",
      "IIM Lucknow also has a city office at Aliganj.IIM-Lucknow's Noida Campus is spread over 20 acres in Sector-62, NOIDA.\n",
      "The 15,000 sq ft computer centre has a fibre optic backbone network and provides wireless connectivity to all the buildings in the campus.The Management Development Block (Manthan) catering to the short-term executive programs has exclusive library, computer centre and guest house (Patanjali) for participants.\n",
      "The institute has an incubation centre (Abhiyan) for supporting the entrepreneurial plans of its students and alumni.\n",
      "Fully residential, the institute provides housing to its students, faculty and research scholars.\n",
      "The campus has a student activities complex with two banks, a medical shop, a travel agency, a supermarket, a post office, a saloon, a coffee shop, an ice cream parlour, and three restaurants.\n",
      "Tree plantation campaign is undertaken every year on the foundation day and the campus, which was started in barren lands, has been converted into an ecosystem consisting of peacocks, monitor lizards, snakes, porcupines, monkeys, Great Indian horned owl and other birds.\n",
      "Rediff listed IIM Lucknow as one of the beautiful B-school campuses in India.\n",
      "IIM Lucknow is an autonomous institution established as a registered society under the Union Ministry of Human Resource Development, Govt.\n",
      "The board consists of 10 industrialists, four Government representatives and three academicians in addition to the director and two deans of the institution.\n",
      "The director of IIM Lucknow, the head of the institution, is selected and appointed by the Appointments Committee of the Cabinet of Ministry of Human Resource Development.\n",
      "The institute has three separate deans for academic affairs, planning and development, and Noida campus.\n",
      "Each of the academic programmes is overseen by a faculty chairperson.The non-academic functions such as Placements, Corporate and Media Relations, Alumni affairs, Admissions and Student affairs are chaired by faculty and assisted by student committees.\n",
      "The institute did not execute the order and incumbent director Devi Singh who completed his six months of extension period, on 8 September did not leave office even after receiving the letter.\n",
      "The allegations against Devi Singh, who served two term as director of IIM-L, ranges from nepotism to mismanagement of accounts.\n",
      "In a letter to the higher education secretary, CVC secretary KS Ramasubban has asked the ministry as to why the case against Singh is being closed when specific allegations have not been answered.\n",
      "CVC sources also said that the institute's Board of Governors had rejected allegations against Singh.\n",
      "IIM Lucknow conducts regular two-year diploma program in management, one-year MBA program for Executives (fully residential), Two year MBA program for working executives (partly residential), fellowship program and short-term MDP and executive programs.\n",
      "The management programmes of IIM Lucknow are accredited by London-based AMBA association.\n",
      "These are two-year programs, with the first year stretching from June to March in three ten-week trimesters, after which students undergo a two-month summer internship with a company or organisation.\n",
      "The specialisations offered in the second year are Finance, Marketing, Operations, Human Resources, Systems, Strategy and Economics — while the PGPABM course students specialise in Agribusiness.\n",
      "Course of independent study and dissertation are available based on merit.As a part of student exchange programs, students spend a three-month term in a foreign university in October to December in their second year.\n",
      "Every year around 50 students of IIM Lucknow are selected for the exchange programs based on merit, while around 30 foreign students come to IIM Lucknow.IIM Lucknow has student exchange relationships with 24 leading B-schools in Europe, USA, Canada, Singapore, and China.\n",
      "The current partner institutions are ESSEC Business School, Ecole De Management, Jean Moulin University, Reims School of Management, European School of Management, Toulouse Business School, Institute National Des Telecommunications, ESC Bretagne Brest, European Business School, Leipzig School of Management, George Mason University, University of Connecticut, McMaster University, Brock University, Carleton University, Louvain Catholic University, Copenhagen Business School, ESADE Business School, Jonkoping International Business School, University of St. Gallen, Bocconi University, MIP Politecnico di Milano, Athens University of Economics and Business, National University of Singapore, Turku School of Economics, University of Amsterdam, Beijing Jiaotong University.The Dual Degree Program, offered in association with the ESCP Europe business school in France, awards degrees from both institutes after students spend a year in each.\n",
      "About four or five students are selected each year for the program.\n",
      "Students, after completing two trimesters (July–September and October–December) at IIM Lucknow, spend two semesters (January–May and September–December) at ESCP Europe's Paris campus and return to IIM Lucknow to complete the final term from January to March.\n",
      "The courses are taught under 11 diverse disciplines of Business Environment, Communication, Decision Sciences, Finance and Accounting, Marketing, Human Resource Management, Operations Management, Information Technology and Systems, Strategic Management, Agribusiness Management and Legal Management.\n",
      "Academic learning is supplemented by live projects, management competitions, guest lectures, and interactions with alumni and industry leaders organised by committees.\n",
      "The International Programme in Management for Executives (IPMX) is a one-year, full-time MBA programme for executives, offered at IIM Lucknow's Noida campus.\n",
      "The course consists of four 10-week terms including a term spent at a partner university and a term spent in Lucknow campus.The Post Graduate Programme in Management for Working Executives(PGPM-WE), also called Working Managers Programme (WMP), offered at the Noida campus, is an executive MBA programme designed for working executives having a minimum of three years professional experience.\n",
      "It has an International Module also initiated from 2017, students will visit one of the top university in Europe as a part of this exchange program, they will have a 1 credit subject being taught there.Management Development Programmes (MDP) are tailor made programs to train executives in specific industry, government, and non-governmental organisations.\n",
      "Around 50 to 60 programs are conducted every year.\n",
      "A one-year General Management program is offered through virtual classroom.\n",
      "As a combined initiative with the Ministry of Defence, a six-month General Management Programme is conducted for Defence officers to assist their career transition to the corporate sector.\n",
      "In October 2019, IIM Lucknow in collaboration with WileyNXT has introduced a six-month program in business and data analytics.\n",
      "Students who have completed MBA from any of the IIMs are admitted directly to the second year.\n",
      "The specialisations offered are Agribusiness management, Decision Sciences, Economics, Finance and Accounting, Human Resources Management, Information Technology and Systems, Marketing Management, Operations Management and Strategic Management.\n",
      "The Agribusiness Management area for FPM is only offered by IIM Ahmadabad apart from IIM Lucknow.\n",
      "Admission in Fellow program is through CAT, GATE, UGC/CSIR/ICAR-JRF/SRF or GMAT/GRE score and other secondary area specific parameters based shortlisting, followed by rigorous interview process.\n",
      "IIM Lucknow also has an EFPM (Executive DBA) for working executives.\n",
      "Admission to the post graduate programs and fellowship program is done through the Common Admission Test (CAT), which is jointly conducted by the IIMs in the month of November every year.\n",
      "The candidates are called for group discussions and personal interviews, conducted in cities in India in the months of February and March.\n",
      "The final selection is based upon the performance in CAT, scholastic achievement, work experience, performance in group discussion, and personal interview.\n",
      "Admissions to the IPMX program are done based on GMAT score, work profile and personal interview.\n",
      "Admission to the PGPM-WE(WMP) program are done based on GMAT score or a competitive written examination conducted by IIM Lucknow.\n",
      "The short listed candidates based on GMAT or the written examination go through Writing Ability Test and Personal Interview (WAT & PI) to get final selection.\n",
      "IIM Lucknow has been involved in many social initiatives in collaboration with NGOs. A separate committee \"Bhavishya\" was formed to carry out these initiatives.\n",
      "A T20 cricket league tournament called as Harmony Cup is conducted every year with 30 teams involving 250 students.\n",
      "The funds raised from this event is used for social initiatives such as infrastructure development at village schools and orphanages, medical camp, employee welfare and sponsor for education of underprivileged school children.The institute offers short term MDP programs on environmental management and carbon markets.\n",
      "The Centre of Excellence for Business Sustainability was set up in 2011 that conducts training programs and workshops on business sustainability.\n",
      "The competition Yajna is held in collaboration with many NGOs across India, where students present solutions for issues faced by the NGOs.\n",
      "Synapse, a student committee, develops and maintains IT applications for the institute community.\"Manfest-Varchasva\" is IIM Lucknow's annual management, sports and cultural festival held in November.\n",
      "The three-day event hosts many management contests, leadership summits, and other inter college quizzes and sports and cultural competitions.\n",
      "Samvit, the annual leadership summit of IIM Lucknow witnesses some of the financial leaders and economists of the country with whom students get an opportunity to interact.\"Just Tea\" and \"Gossip and Bite\" are two student run food ventures in the campus and are passed on to the next cohort every year.\n",
      "The Entrepreneurship Cell conducts a competition called \"Bizness\", where all participants are given a seed capital of ₹ 2000 to run any business in the campus for two days and earn profits.\n",
      "The Mess (Annapoorna) is entirely run and managed by students, with the infrastructure provided by the institute and is continuously ranked the best mess among that of all IIMs.A classical cultural night \"Aarohan\" is organised by the IIM Lucknow chapter of SPIC MACAY in the month of August.\n",
      "The institute's dance club \"Random Walk\" organises dance workshops regularly and performs stage shows during major festivals.\n",
      "The Intracollege sports event called as Sangram is held in the month of October every year.\n",
      "The institute sports team participates in most of the popular college sports meets including the Inter-IIM Meet (Sangharsh) held during January every year.\n",
      "Indian Institute of Management, Lucknow - Official website\n"
     ]
    },
    {
     "name": "stdout",
     "output_type": "stream",
     "text": [
      "The IIM Lucknow Alumni Association Website - Official website of the Alumni Association\n"
     ]
    }
   ],
   "source": [
    "# Summary (5% of the original content). \n",
    "summ_per = summarize(wikicontent, ratio = 0.5) \n",
    "print(\"Percent summary\") \n",
    "print(summ_per) \n",
    "  \n"
   ]
  },
  {
   "cell_type": "code",
   "execution_count": 5,
   "metadata": {},
   "outputs": [
    {
     "name": "stdout",
     "output_type": "stream",
     "text": [
      "Word count summary\n",
      "The admission for the two-year PGP and fellowship programmes is done through Common Admission Test (CAT), while GMAT score is used for International Programme in Management for Executives, a one-year full-time residential programme equivalent to an MBA program, while admission to the Two-year PGP for working executive program is done based on GMAT score or a competitive written examination conducted by IIM Lucknow.\n",
      "The Agribusiness Course was started in 2004 with 13 students.In 2005, IIM Lucknow established a second campus at Noida near Delhi.\n",
      "The 15,000 sq ft computer centre has a fibre optic backbone network and provides wireless connectivity to all the buildings in the campus.The Management Development Block (Manthan) catering to the short-term executive programs has exclusive library, computer centre and guest house (Patanjali) for participants.\n",
      "The International Programme in Management for Executives (IPMX) is a one-year, full-time MBA programme for executives, offered at IIM Lucknow's Noida campus.\n",
      "Admission to the PGPM-WE(WMP) program are done based on GMAT score or a competitive written examination conducted by IIM Lucknow.\n",
      "Synapse, a student committee, develops and maintains IT applications for the institute community.\"Manfest-Varchasva\" is IIM Lucknow's annual management, sports and cultural festival held in November.\n"
     ]
    }
   ],
   "source": [
    "# Summary (200 words) \n",
    "summ_words = summarize(wikicontent, word_count = 200) \n",
    "print(\"Word count summary\") \n",
    "print(summ_words) "
   ]
  },
  {
   "cell_type": "code",
   "execution_count": 6,
   "metadata": {},
   "outputs": [
    {
     "data": {
      "text/plain": [
       "195"
      ]
     },
     "execution_count": 6,
     "metadata": {},
     "output_type": "execute_result"
    }
   ],
   "source": [
    "len(str(summ_words).split())"
   ]
  },
  {
   "cell_type": "code",
   "execution_count": null,
   "metadata": {},
   "outputs": [],
   "source": []
  }
 ],
 "metadata": {
  "kernelspec": {
   "display_name": "Python 3",
   "language": "python",
   "name": "python3"
  },
  "language_info": {
   "codemirror_mode": {
    "name": "ipython",
    "version": 3
   },
   "file_extension": ".py",
   "mimetype": "text/x-python",
   "name": "python",
   "nbconvert_exporter": "python",
   "pygments_lexer": "ipython3",
   "version": "3.8.2-final"
  }
 },
 "nbformat": 4,
 "nbformat_minor": 2
}